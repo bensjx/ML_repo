{
  "nbformat": 4,
  "nbformat_minor": 0,
  "metadata": {
    "anaconda-cloud": {},
    "kernelspec": {
      "display_name": "Python 3",
      "language": "python",
      "name": "python3"
    },
    "language_info": {
      "codemirror_mode": {
        "name": "ipython",
        "version": 3
      },
      "file_extension": ".py",
      "mimetype": "text/x-python",
      "name": "python",
      "nbconvert_exporter": "python",
      "pygments_lexer": "ipython3",
      "version": "3.7.3"
    },
    "colab": {
      "name": "09 Autoencoder for anomaly detection",
      "provenance": []
    },
    "accelerator": "GPU"
  },
  "cells": [
    {
      "cell_type": "markdown",
      "metadata": {
        "id": "Bs9RhWZpZfEg"
      },
      "source": [
        "# Autoencoder for anomaly detection\n",
        "This notebook shows an example on how to use autocoder to learn a low dimensional representation which enables anomaly detection in a downstream process."
      ]
    },
    {
      "cell_type": "code",
      "metadata": {
        "id": "MBmErNLUpHkN",
        "outputId": "1003f45c-bf88-49a1-8930-c0a614d5a3e1",
        "colab": {
          "base_uri": "https://localhost:8080/",
          "height": 34
        }
      },
      "source": [
        "import pandas as pd\n",
        "\n",
        "from sklearn.preprocessing import StandardScaler\n",
        "from google.colab import drive\n",
        "from numpy.linalg import norm\n",
        "\n",
        "import matplotlib.pyplot as plt\n",
        "import seaborn as sns\n",
        "\n",
        "plt.style.use('seaborn')\n",
        "drive.mount('/content/gdrive')"
      ],
      "execution_count": 1,
      "outputs": [
        {
          "output_type": "stream",
          "text": [
            "Mounted at /content/gdrive\n"
          ],
          "name": "stdout"
        }
      ]
    },
    {
      "cell_type": "markdown",
      "metadata": {
        "id": "2Q8j7u_Qs312"
      },
      "source": [
        "\n",
        "\n",
        "## Load data\n",
        "The KDD99 dataset contains many columns that define the network state over time intervals during which a cyber attack might have taken place.  The column labeled \"outcome\" specifies either \"normal,\" indicating no attack, or the type of attack performed."
      ]
    },
    {
      "cell_type": "code",
      "metadata": {
        "id": "zXUp4BLsrEVw"
      },
      "source": [
        "df = pd.read_csv('/content/gdrive/My Drive/BT4012/Week 8/kddcup.csv')"
      ],
      "execution_count": 2,
      "outputs": []
    },
    {
      "cell_type": "code",
      "metadata": {
        "id": "tPmTn_gSf0H_",
        "outputId": "9dcf38b6-c865-4962-bcee-9d06091cb6aa",
        "colab": {
          "base_uri": "https://localhost:8080/",
          "height": 224
        }
      },
      "source": [
        "df.head()"
      ],
      "execution_count": 3,
      "outputs": [
        {
          "output_type": "execute_result",
          "data": {
            "text/html": [
              "<div>\n",
              "<style scoped>\n",
              "    .dataframe tbody tr th:only-of-type {\n",
              "        vertical-align: middle;\n",
              "    }\n",
              "\n",
              "    .dataframe tbody tr th {\n",
              "        vertical-align: top;\n",
              "    }\n",
              "\n",
              "    .dataframe thead th {\n",
              "        text-align: right;\n",
              "    }\n",
              "</style>\n",
              "<table border=\"1\" class=\"dataframe\">\n",
              "  <thead>\n",
              "    <tr style=\"text-align: right;\">\n",
              "      <th></th>\n",
              "      <th>duration</th>\n",
              "      <th>protocol_type</th>\n",
              "      <th>service</th>\n",
              "      <th>flag</th>\n",
              "      <th>src_bytes</th>\n",
              "      <th>dst_bytes</th>\n",
              "      <th>land</th>\n",
              "      <th>wrong_fragment</th>\n",
              "      <th>urgent</th>\n",
              "      <th>hot</th>\n",
              "      <th>num_failed_logins</th>\n",
              "      <th>logged_in</th>\n",
              "      <th>num_compromised</th>\n",
              "      <th>root_shell</th>\n",
              "      <th>su_attempted</th>\n",
              "      <th>num_root</th>\n",
              "      <th>num_file_creations</th>\n",
              "      <th>num_shells</th>\n",
              "      <th>num_access_files</th>\n",
              "      <th>num_outbound_cmds</th>\n",
              "      <th>is_host_login</th>\n",
              "      <th>is_guest_login</th>\n",
              "      <th>count</th>\n",
              "      <th>srv_count</th>\n",
              "      <th>serror_rate</th>\n",
              "      <th>srv_serror_rate</th>\n",
              "      <th>rerror_rate</th>\n",
              "      <th>srv_rerror_rate</th>\n",
              "      <th>same_srv_rate</th>\n",
              "      <th>diff_srv_rate</th>\n",
              "      <th>srv_diff_host_rate</th>\n",
              "      <th>dst_host_count</th>\n",
              "      <th>dst_host_srv_count</th>\n",
              "      <th>dst_host_same_srv_rate</th>\n",
              "      <th>dst_host_diff_srv_rate</th>\n",
              "      <th>dst_host_same_src_port_rate</th>\n",
              "      <th>dst_host_srv_diff_host_rate</th>\n",
              "      <th>dst_host_serror_rate</th>\n",
              "      <th>dst_host_srv_serror_rate</th>\n",
              "      <th>dst_host_rerror_rate</th>\n",
              "      <th>dst_host_srv_rerror_rate</th>\n",
              "      <th>outcome</th>\n",
              "    </tr>\n",
              "  </thead>\n",
              "  <tbody>\n",
              "    <tr>\n",
              "      <th>0</th>\n",
              "      <td>0</td>\n",
              "      <td>tcp</td>\n",
              "      <td>http</td>\n",
              "      <td>SF</td>\n",
              "      <td>181</td>\n",
              "      <td>5450</td>\n",
              "      <td>0</td>\n",
              "      <td>0</td>\n",
              "      <td>0</td>\n",
              "      <td>0</td>\n",
              "      <td>0</td>\n",
              "      <td>1</td>\n",
              "      <td>0</td>\n",
              "      <td>0</td>\n",
              "      <td>0</td>\n",
              "      <td>0</td>\n",
              "      <td>0</td>\n",
              "      <td>0</td>\n",
              "      <td>0</td>\n",
              "      <td>0</td>\n",
              "      <td>0</td>\n",
              "      <td>0</td>\n",
              "      <td>8</td>\n",
              "      <td>8</td>\n",
              "      <td>0.0</td>\n",
              "      <td>0.0</td>\n",
              "      <td>0.0</td>\n",
              "      <td>0.0</td>\n",
              "      <td>1.0</td>\n",
              "      <td>0.0</td>\n",
              "      <td>0.0</td>\n",
              "      <td>9</td>\n",
              "      <td>9</td>\n",
              "      <td>1.0</td>\n",
              "      <td>0.0</td>\n",
              "      <td>0.11</td>\n",
              "      <td>0.0</td>\n",
              "      <td>0.0</td>\n",
              "      <td>0.0</td>\n",
              "      <td>0.0</td>\n",
              "      <td>0.0</td>\n",
              "      <td>normal.</td>\n",
              "    </tr>\n",
              "    <tr>\n",
              "      <th>1</th>\n",
              "      <td>0</td>\n",
              "      <td>tcp</td>\n",
              "      <td>http</td>\n",
              "      <td>SF</td>\n",
              "      <td>239</td>\n",
              "      <td>486</td>\n",
              "      <td>0</td>\n",
              "      <td>0</td>\n",
              "      <td>0</td>\n",
              "      <td>0</td>\n",
              "      <td>0</td>\n",
              "      <td>1</td>\n",
              "      <td>0</td>\n",
              "      <td>0</td>\n",
              "      <td>0</td>\n",
              "      <td>0</td>\n",
              "      <td>0</td>\n",
              "      <td>0</td>\n",
              "      <td>0</td>\n",
              "      <td>0</td>\n",
              "      <td>0</td>\n",
              "      <td>0</td>\n",
              "      <td>8</td>\n",
              "      <td>8</td>\n",
              "      <td>0.0</td>\n",
              "      <td>0.0</td>\n",
              "      <td>0.0</td>\n",
              "      <td>0.0</td>\n",
              "      <td>1.0</td>\n",
              "      <td>0.0</td>\n",
              "      <td>0.0</td>\n",
              "      <td>19</td>\n",
              "      <td>19</td>\n",
              "      <td>1.0</td>\n",
              "      <td>0.0</td>\n",
              "      <td>0.05</td>\n",
              "      <td>0.0</td>\n",
              "      <td>0.0</td>\n",
              "      <td>0.0</td>\n",
              "      <td>0.0</td>\n",
              "      <td>0.0</td>\n",
              "      <td>normal.</td>\n",
              "    </tr>\n",
              "    <tr>\n",
              "      <th>2</th>\n",
              "      <td>0</td>\n",
              "      <td>tcp</td>\n",
              "      <td>http</td>\n",
              "      <td>SF</td>\n",
              "      <td>235</td>\n",
              "      <td>1337</td>\n",
              "      <td>0</td>\n",
              "      <td>0</td>\n",
              "      <td>0</td>\n",
              "      <td>0</td>\n",
              "      <td>0</td>\n",
              "      <td>1</td>\n",
              "      <td>0</td>\n",
              "      <td>0</td>\n",
              "      <td>0</td>\n",
              "      <td>0</td>\n",
              "      <td>0</td>\n",
              "      <td>0</td>\n",
              "      <td>0</td>\n",
              "      <td>0</td>\n",
              "      <td>0</td>\n",
              "      <td>0</td>\n",
              "      <td>8</td>\n",
              "      <td>8</td>\n",
              "      <td>0.0</td>\n",
              "      <td>0.0</td>\n",
              "      <td>0.0</td>\n",
              "      <td>0.0</td>\n",
              "      <td>1.0</td>\n",
              "      <td>0.0</td>\n",
              "      <td>0.0</td>\n",
              "      <td>29</td>\n",
              "      <td>29</td>\n",
              "      <td>1.0</td>\n",
              "      <td>0.0</td>\n",
              "      <td>0.03</td>\n",
              "      <td>0.0</td>\n",
              "      <td>0.0</td>\n",
              "      <td>0.0</td>\n",
              "      <td>0.0</td>\n",
              "      <td>0.0</td>\n",
              "      <td>normal.</td>\n",
              "    </tr>\n",
              "    <tr>\n",
              "      <th>3</th>\n",
              "      <td>0</td>\n",
              "      <td>tcp</td>\n",
              "      <td>http</td>\n",
              "      <td>SF</td>\n",
              "      <td>219</td>\n",
              "      <td>1337</td>\n",
              "      <td>0</td>\n",
              "      <td>0</td>\n",
              "      <td>0</td>\n",
              "      <td>0</td>\n",
              "      <td>0</td>\n",
              "      <td>1</td>\n",
              "      <td>0</td>\n",
              "      <td>0</td>\n",
              "      <td>0</td>\n",
              "      <td>0</td>\n",
              "      <td>0</td>\n",
              "      <td>0</td>\n",
              "      <td>0</td>\n",
              "      <td>0</td>\n",
              "      <td>0</td>\n",
              "      <td>0</td>\n",
              "      <td>6</td>\n",
              "      <td>6</td>\n",
              "      <td>0.0</td>\n",
              "      <td>0.0</td>\n",
              "      <td>0.0</td>\n",
              "      <td>0.0</td>\n",
              "      <td>1.0</td>\n",
              "      <td>0.0</td>\n",
              "      <td>0.0</td>\n",
              "      <td>39</td>\n",
              "      <td>39</td>\n",
              "      <td>1.0</td>\n",
              "      <td>0.0</td>\n",
              "      <td>0.03</td>\n",
              "      <td>0.0</td>\n",
              "      <td>0.0</td>\n",
              "      <td>0.0</td>\n",
              "      <td>0.0</td>\n",
              "      <td>0.0</td>\n",
              "      <td>normal.</td>\n",
              "    </tr>\n",
              "    <tr>\n",
              "      <th>4</th>\n",
              "      <td>0</td>\n",
              "      <td>tcp</td>\n",
              "      <td>http</td>\n",
              "      <td>SF</td>\n",
              "      <td>217</td>\n",
              "      <td>2032</td>\n",
              "      <td>0</td>\n",
              "      <td>0</td>\n",
              "      <td>0</td>\n",
              "      <td>0</td>\n",
              "      <td>0</td>\n",
              "      <td>1</td>\n",
              "      <td>0</td>\n",
              "      <td>0</td>\n",
              "      <td>0</td>\n",
              "      <td>0</td>\n",
              "      <td>0</td>\n",
              "      <td>0</td>\n",
              "      <td>0</td>\n",
              "      <td>0</td>\n",
              "      <td>0</td>\n",
              "      <td>0</td>\n",
              "      <td>6</td>\n",
              "      <td>6</td>\n",
              "      <td>0.0</td>\n",
              "      <td>0.0</td>\n",
              "      <td>0.0</td>\n",
              "      <td>0.0</td>\n",
              "      <td>1.0</td>\n",
              "      <td>0.0</td>\n",
              "      <td>0.0</td>\n",
              "      <td>49</td>\n",
              "      <td>49</td>\n",
              "      <td>1.0</td>\n",
              "      <td>0.0</td>\n",
              "      <td>0.02</td>\n",
              "      <td>0.0</td>\n",
              "      <td>0.0</td>\n",
              "      <td>0.0</td>\n",
              "      <td>0.0</td>\n",
              "      <td>0.0</td>\n",
              "      <td>normal.</td>\n",
              "    </tr>\n",
              "  </tbody>\n",
              "</table>\n",
              "</div>"
            ],
            "text/plain": [
              "   duration protocol_type  ... dst_host_srv_rerror_rate  outcome\n",
              "0         0           tcp  ...                      0.0  normal.\n",
              "1         0           tcp  ...                      0.0  normal.\n",
              "2         0           tcp  ...                      0.0  normal.\n",
              "3         0           tcp  ...                      0.0  normal.\n",
              "4         0           tcp  ...                      0.0  normal.\n",
              "\n",
              "[5 rows x 42 columns]"
            ]
          },
          "metadata": {
            "tags": []
          },
          "execution_count": 3
        }
      ]
    },
    {
      "cell_type": "code",
      "metadata": {
        "id": "kQ_1RZbqf8_l",
        "outputId": "2a2c435e-9c4f-4649-ffe0-8559c3a20177",
        "colab": {
          "base_uri": "https://localhost:8080/",
          "height": 425
        }
      },
      "source": [
        "# The following code displays the counts for each type of attack, as well as \"normal\".\n",
        "\n",
        "df.outcome.value_counts()"
      ],
      "execution_count": 4,
      "outputs": [
        {
          "output_type": "execute_result",
          "data": {
            "text/plain": [
              "smurf.              280790\n",
              "neptune.            107201\n",
              "normal.              97278\n",
              "back.                 2203\n",
              "satan.                1589\n",
              "ipsweep.              1247\n",
              "portsweep.            1040\n",
              "warezclient.          1020\n",
              "teardrop.              979\n",
              "pod.                   264\n",
              "nmap.                  231\n",
              "guess_passwd.           53\n",
              "buffer_overflow.        30\n",
              "land.                   21\n",
              "warezmaster.            20\n",
              "imap.                   12\n",
              "rootkit.                10\n",
              "loadmodule.              9\n",
              "ftp_write.               8\n",
              "multihop.                7\n",
              "phf.                     4\n",
              "perl.                    3\n",
              "spy.                     2\n",
              "Name: outcome, dtype: int64"
            ]
          },
          "metadata": {
            "tags": []
          },
          "execution_count": 4
        }
      ]
    },
    {
      "cell_type": "markdown",
      "metadata": {
        "id": "1Uk49FoZQVl-"
      },
      "source": [
        "## Preprocessing \n",
        "\n",
        "Before we feed the data into the autoencoder,  we transform numeric features into Z-Scores and replaces categorical features with dummy variables."
      ]
    },
    {
      "cell_type": "code",
      "metadata": {
        "id": "YNUNLI4LjaMs",
        "outputId": "eced259a-4c0e-40ef-a918-1ddfbdb3be9a",
        "colab": {
          "base_uri": "https://localhost:8080/",
          "height": 34
        }
      },
      "source": [
        "df.shape"
      ],
      "execution_count": 5,
      "outputs": [
        {
          "output_type": "execute_result",
          "data": {
            "text/plain": [
              "(494021, 42)"
            ]
          },
          "metadata": {
            "tags": []
          },
          "execution_count": 5
        }
      ]
    },
    {
      "cell_type": "code",
      "metadata": {
        "id": "h07lhh4_ES5N",
        "outputId": "55e9117c-3d96-46f7-9369-2f35be66207b",
        "colab": {
          "base_uri": "https://localhost:8080/",
          "height": 51
        }
      },
      "source": [
        "# Drop is_host_login\n",
        "\n",
        "df['is_host_login'].value_counts()"
      ],
      "execution_count": 6,
      "outputs": [
        {
          "output_type": "execute_result",
          "data": {
            "text/plain": [
              "0    494021\n",
              "Name: is_host_login, dtype: int64"
            ]
          },
          "metadata": {
            "tags": []
          },
          "execution_count": 6
        }
      ]
    },
    {
      "cell_type": "code",
      "metadata": {
        "id": "x-G-1Pr1EzCk"
      },
      "source": [
        "df = df.drop('is_host_login', axis=1)"
      ],
      "execution_count": 7,
      "outputs": []
    },
    {
      "cell_type": "code",
      "metadata": {
        "id": "6x9Ot71f1SCi"
      },
      "source": [
        "# Generate lists of categorical and numerical variables.\n",
        "\n",
        "categorical_variables = []\n",
        "numerical_variables = []\n",
        "\n",
        "df_dtypes = pd.DataFrame(df.dtypes).reset_index().sort_values(by=0)\n",
        "\n",
        "for index, row in df_dtypes.iterrows():\n",
        "  if row[0] in ['int64', 'float64']:\n",
        "    numerical_variables.append(row['index'])\n",
        "  else:\n",
        "    categorical_variables.append(row['index'])\n",
        "\n",
        "categorical_variables.remove('outcome')"
      ],
      "execution_count": 8,
      "outputs": []
    },
    {
      "cell_type": "code",
      "metadata": {
        "id": "2R3BxEg8gNoh",
        "outputId": "71c34fcc-292a-4ebf-f0c4-c8bf0db87e94",
        "colab": {
          "base_uri": "https://localhost:8080/",
          "height": 663
        }
      },
      "source": [
        "categorical_variables, numerical_variables"
      ],
      "execution_count": 9,
      "outputs": [
        {
          "output_type": "execute_result",
          "data": {
            "text/plain": [
              "(['service', 'protocol_type', 'flag'],\n",
              " ['duration',\n",
              "  'dst_host_srv_count',\n",
              "  'dst_host_count',\n",
              "  'srv_count',\n",
              "  'count',\n",
              "  'num_outbound_cmds',\n",
              "  'num_access_files',\n",
              "  'num_shells',\n",
              "  'num_file_creations',\n",
              "  'num_root',\n",
              "  'su_attempted',\n",
              "  'root_shell',\n",
              "  'is_guest_login',\n",
              "  'logged_in',\n",
              "  'num_failed_logins',\n",
              "  'hot',\n",
              "  'urgent',\n",
              "  'wrong_fragment',\n",
              "  'land',\n",
              "  'dst_bytes',\n",
              "  'src_bytes',\n",
              "  'num_compromised',\n",
              "  'dst_host_rerror_rate',\n",
              "  'dst_host_srv_serror_rate',\n",
              "  'dst_host_serror_rate',\n",
              "  'dst_host_srv_diff_host_rate',\n",
              "  'dst_host_same_src_port_rate',\n",
              "  'dst_host_diff_srv_rate',\n",
              "  'dst_host_same_srv_rate',\n",
              "  'srv_rerror_rate',\n",
              "  'diff_srv_rate',\n",
              "  'same_srv_rate',\n",
              "  'rerror_rate',\n",
              "  'srv_serror_rate',\n",
              "  'serror_rate',\n",
              "  'dst_host_srv_rerror_rate',\n",
              "  'srv_diff_host_rate'])"
            ]
          },
          "metadata": {
            "tags": []
          },
          "execution_count": 9
        }
      ]
    },
    {
      "cell_type": "markdown",
      "metadata": {
        "id": "8kojwx24QVmB"
      },
      "source": [
        "### Feature preprocessing\n",
        "We now use these steps to preprocess each of the columns. This code converts all numeric columns to Z-Scores and one-hot encodes all textual columns."
      ]
    },
    {
      "cell_type": "code",
      "metadata": {
        "id": "4uuzMjH1E-Y1"
      },
      "source": [
        "# Standard Scale the numerical values\n",
        "scaler = StandardScaler()\n",
        "\n",
        "for var in numerical_variables:\n",
        "  df[var] = scaler.fit_transform(df[[var]])[:,0]"
      ],
      "execution_count": 10,
      "outputs": []
    },
    {
      "cell_type": "code",
      "metadata": {
        "id": "FaBvVux_GqFS"
      },
      "source": [
        "# One-hot encoding for the categorical variables\n",
        "for var in categorical_variables:\n",
        "  dummies = pd.get_dummies(df[var])\n",
        "  df = df.drop(var, axis=1)\n",
        "  df = pd.concat([df, dummies], axis=1)"
      ],
      "execution_count": 11,
      "outputs": []
    },
    {
      "cell_type": "markdown",
      "metadata": {
        "id": "E037g4faQVmE"
      },
      "source": [
        "## Train/Test split \n",
        "\n",
        "To perform anomaly detection, we divide the data into two groups \"normal\" and the various attacks. The following code divides the data into two dataframes and displays each of these two groups' sizes. "
      ]
    },
    {
      "cell_type": "code",
      "metadata": {
        "id": "lkb2buTSQVmE",
        "outputId": "77ad7e42-48c1-49d7-cf13-a8897b04837b",
        "colab": {
          "base_uri": "https://localhost:8080/",
          "height": 51
        }
      },
      "source": [
        "normal_mask = df['outcome']=='normal.'\n",
        "attack_mask = df['outcome']!='normal.'\n",
        "\n",
        "df.drop('outcome',axis=1,inplace=True)\n",
        "\n",
        "df_normal = df[normal_mask]\n",
        "df_attack = df[attack_mask]\n",
        "\n",
        "print(f\"Normal count: {len(df_normal)}\")\n",
        "print(f\"Attack count: {len(df_attack)}\")\n",
        "\n",
        "x_normal = df_normal.values\n",
        "x_attack = df_attack.values"
      ],
      "execution_count": 12,
      "outputs": [
        {
          "output_type": "stream",
          "text": [
            "Normal count: 97278\n",
            "Attack count: 396743\n"
          ],
          "name": "stdout"
        }
      ]
    },
    {
      "cell_type": "markdown",
      "metadata": {
        "id": "-vBhJIswQVmK"
      },
      "source": [
        "## Training the Autoencoder\n",
        "\n",
        "It is important to note that we are not using the outcome column as a label to predict.  This anomaly detection is unsupervised; there is no target (y) value to predict. We will train an autoencoder on the normal data and see how well it can detect that the data not flagged as \"normal\" represents an anomaly. \n",
        "\n",
        "Next, we split the normal data into a 90% train and a 10% test set. "
      ]
    },
    {
      "cell_type": "code",
      "metadata": {
        "id": "uvZBQE9xQVmL"
      },
      "source": [
        "from sklearn.model_selection import train_test_split\n",
        "\n",
        "x_normal_train, x_normal_test = train_test_split(x_normal, test_size=0.1, random_state=1)"
      ],
      "execution_count": 13,
      "outputs": []
    },
    {
      "cell_type": "markdown",
      "metadata": {
        "id": "n8V8481wQVmN"
      },
      "source": [
        "We display the size of the train and test sets."
      ]
    },
    {
      "cell_type": "code",
      "metadata": {
        "id": "umN9eRNFQVmN",
        "outputId": "4aa00a36-e698-46f0-d725-9e60b0ce594f",
        "colab": {
          "base_uri": "https://localhost:8080/",
          "height": 51
        }
      },
      "source": [
        "print(f\"Normal train count: {len(x_normal_train)}\")\n",
        "print(f\"Normal test count: {len(x_normal_test)}\")"
      ],
      "execution_count": 14,
      "outputs": [
        {
          "output_type": "stream",
          "text": [
            "Normal train count: 87550\n",
            "Normal test count: 9728\n"
          ],
          "name": "stdout"
        }
      ]
    },
    {
      "cell_type": "markdown",
      "metadata": {
        "id": "_WogzaybQVmP"
      },
      "source": [
        "We are now ready to train the autoencoder on the normal data. The autoencoder will learn to compress the data to a vector with 3 dimensions. "
      ]
    },
    {
      "cell_type": "code",
      "metadata": {
        "id": "-RI-MbD2QVmQ",
        "outputId": "b6ed91df-15be-47b1-cd84-6c9d8e08326b",
        "colab": {
          "base_uri": "https://localhost:8080/",
          "height": 1000
        }
      },
      "source": [
        "from sklearn import metrics\n",
        "import numpy as np\n",
        "import pandas as pd\n",
        "from IPython.display import display, HTML \n",
        "import tensorflow as tf\n",
        "from tensorflow.keras.models import Sequential\n",
        "from tensorflow.keras.layers import Dense, Activation, Dropout\n",
        "from tensorflow import keras\n",
        "\n",
        "tf.keras.backend.set_floatx('float64')\n",
        "model = Sequential()\n",
        "model.add(Dense(25, activation='relu'))\n",
        "model.add(Dense(3, activation='relu')) # size to compress to\n",
        "model.add(Dense(25, activation='relu'))\n",
        "model.add(Dense(x_normal.shape[1])) \n",
        "model.compile(loss='mean_squared_error', optimizer='nadam')\n",
        "history = model.fit(x_normal_train,\n",
        "                    x_normal_train,\n",
        "                    epochs=100,\n",
        "                    batch_size=50,\n",
        "                    validation_split=0.1\n",
        "                   )"
      ],
      "execution_count": 15,
      "outputs": [
        {
          "output_type": "stream",
          "text": [
            "Epoch 1/100\n",
            "1576/1576 [==============================] - 5s 3ms/step - loss: 0.3402 - val_loss: 0.3440\n",
            "Epoch 2/100\n",
            "1576/1576 [==============================] - 5s 3ms/step - loss: 0.2817 - val_loss: 0.3171\n",
            "Epoch 3/100\n",
            "1576/1576 [==============================] - 5s 3ms/step - loss: 0.2646 - val_loss: 0.2965\n",
            "Epoch 4/100\n",
            "1576/1576 [==============================] - 5s 3ms/step - loss: 0.2505 - val_loss: 0.2712\n",
            "Epoch 5/100\n",
            "1576/1576 [==============================] - 5s 3ms/step - loss: 0.2333 - val_loss: 0.2396\n",
            "Epoch 6/100\n",
            "1576/1576 [==============================] - 5s 3ms/step - loss: 0.2182 - val_loss: 0.2210\n",
            "Epoch 7/100\n",
            "1576/1576 [==============================] - 5s 3ms/step - loss: 0.2116 - val_loss: 0.2149\n",
            "Epoch 8/100\n",
            "1576/1576 [==============================] - 5s 3ms/step - loss: 0.2073 - val_loss: 0.2133\n",
            "Epoch 9/100\n",
            "1576/1576 [==============================] - 5s 3ms/step - loss: 0.2068 - val_loss: 0.2133\n",
            "Epoch 10/100\n",
            "1576/1576 [==============================] - 5s 3ms/step - loss: 0.2076 - val_loss: 0.2160\n",
            "Epoch 11/100\n",
            "1576/1576 [==============================] - 5s 3ms/step - loss: 0.2050 - val_loss: 0.2090\n",
            "Epoch 12/100\n",
            "1576/1576 [==============================] - 5s 3ms/step - loss: 0.2049 - val_loss: 0.2093\n",
            "Epoch 13/100\n",
            "1576/1576 [==============================] - 5s 3ms/step - loss: 0.2023 - val_loss: 0.2079\n",
            "Epoch 14/100\n",
            "1576/1576 [==============================] - 5s 3ms/step - loss: 0.2018 - val_loss: 0.2095\n",
            "Epoch 15/100\n",
            "1576/1576 [==============================] - 5s 3ms/step - loss: 0.2022 - val_loss: 0.2114\n",
            "Epoch 16/100\n",
            "1576/1576 [==============================] - 5s 3ms/step - loss: 0.1996 - val_loss: 0.2120\n",
            "Epoch 17/100\n",
            "1576/1576 [==============================] - 5s 3ms/step - loss: 0.2009 - val_loss: 0.2095\n",
            "Epoch 18/100\n",
            "1576/1576 [==============================] - 5s 3ms/step - loss: 0.2007 - val_loss: 0.2071\n",
            "Epoch 19/100\n",
            "1576/1576 [==============================] - 5s 3ms/step - loss: 0.1991 - val_loss: 0.2067\n",
            "Epoch 20/100\n",
            "1576/1576 [==============================] - 5s 3ms/step - loss: 0.1994 - val_loss: 0.2240\n",
            "Epoch 21/100\n",
            "1576/1576 [==============================] - 5s 3ms/step - loss: 0.1985 - val_loss: 0.2070\n",
            "Epoch 22/100\n",
            "1576/1576 [==============================] - 5s 3ms/step - loss: 0.1970 - val_loss: 0.2222\n",
            "Epoch 23/100\n",
            "1576/1576 [==============================] - 5s 3ms/step - loss: 0.1973 - val_loss: 0.2049\n",
            "Epoch 24/100\n",
            "1576/1576 [==============================] - 5s 3ms/step - loss: 0.1979 - val_loss: 0.2059\n",
            "Epoch 25/100\n",
            "1576/1576 [==============================] - 5s 3ms/step - loss: 0.1988 - val_loss: 0.2042\n",
            "Epoch 26/100\n",
            "1576/1576 [==============================] - 5s 3ms/step - loss: 0.1961 - val_loss: 0.2036\n",
            "Epoch 27/100\n",
            "1576/1576 [==============================] - 5s 3ms/step - loss: 0.1962 - val_loss: 0.2037\n",
            "Epoch 28/100\n",
            "1576/1576 [==============================] - 5s 3ms/step - loss: 0.1970 - val_loss: 0.2053\n",
            "Epoch 29/100\n",
            "1576/1576 [==============================] - 5s 3ms/step - loss: 0.1955 - val_loss: 0.2044\n",
            "Epoch 30/100\n",
            "1576/1576 [==============================] - 5s 3ms/step - loss: 0.1953 - val_loss: 0.2109\n",
            "Epoch 31/100\n",
            "1576/1576 [==============================] - 5s 3ms/step - loss: 0.1949 - val_loss: 0.2020\n",
            "Epoch 32/100\n",
            "1576/1576 [==============================] - 5s 3ms/step - loss: 0.1968 - val_loss: 0.2024\n",
            "Epoch 33/100\n",
            "1576/1576 [==============================] - 5s 3ms/step - loss: 0.1952 - val_loss: 0.2016\n",
            "Epoch 34/100\n",
            "1576/1576 [==============================] - 5s 3ms/step - loss: 0.1942 - val_loss: 0.2066\n",
            "Epoch 35/100\n",
            "1576/1576 [==============================] - 5s 3ms/step - loss: 0.1943 - val_loss: 0.2230\n",
            "Epoch 36/100\n",
            "1576/1576 [==============================] - 5s 3ms/step - loss: 0.1933 - val_loss: 0.2024\n",
            "Epoch 37/100\n",
            "1576/1576 [==============================] - 5s 3ms/step - loss: 0.1936 - val_loss: 0.2015\n",
            "Epoch 38/100\n",
            "1576/1576 [==============================] - 5s 3ms/step - loss: 0.1930 - val_loss: 0.2147\n",
            "Epoch 39/100\n",
            "1576/1576 [==============================] - 5s 3ms/step - loss: 0.1931 - val_loss: 0.2014\n",
            "Epoch 40/100\n",
            "1576/1576 [==============================] - 5s 3ms/step - loss: 0.1924 - val_loss: 0.2021\n",
            "Epoch 41/100\n",
            "1576/1576 [==============================] - 5s 3ms/step - loss: 0.1932 - val_loss: 0.2004\n",
            "Epoch 42/100\n",
            "1576/1576 [==============================] - 5s 3ms/step - loss: 0.1917 - val_loss: 0.1995\n",
            "Epoch 43/100\n",
            "1576/1576 [==============================] - 5s 3ms/step - loss: 0.1920 - val_loss: 0.2039\n",
            "Epoch 44/100\n",
            "1576/1576 [==============================] - 5s 3ms/step - loss: 0.1925 - val_loss: 0.2007\n",
            "Epoch 45/100\n",
            "1576/1576 [==============================] - 5s 3ms/step - loss: 0.1915 - val_loss: 0.2027\n",
            "Epoch 46/100\n",
            "1576/1576 [==============================] - 5s 3ms/step - loss: 0.1913 - val_loss: 0.1998\n",
            "Epoch 47/100\n",
            "1576/1576 [==============================] - 5s 3ms/step - loss: 0.1907 - val_loss: 0.2049\n",
            "Epoch 48/100\n",
            "1576/1576 [==============================] - 5s 3ms/step - loss: 0.1919 - val_loss: 0.1991\n",
            "Epoch 49/100\n",
            "1576/1576 [==============================] - 5s 3ms/step - loss: 0.1909 - val_loss: 0.2006\n",
            "Epoch 50/100\n",
            "1576/1576 [==============================] - 5s 3ms/step - loss: 0.1910 - val_loss: 0.2017\n",
            "Epoch 51/100\n",
            "1576/1576 [==============================] - 5s 3ms/step - loss: 0.1901 - val_loss: 0.1987\n",
            "Epoch 52/100\n",
            "1576/1576 [==============================] - 5s 3ms/step - loss: 0.1906 - val_loss: 0.2000\n",
            "Epoch 53/100\n",
            "1576/1576 [==============================] - 5s 3ms/step - loss: 0.1905 - val_loss: 0.1987\n",
            "Epoch 54/100\n",
            "1576/1576 [==============================] - 5s 3ms/step - loss: 0.1907 - val_loss: 0.1989\n",
            "Epoch 55/100\n",
            "1576/1576 [==============================] - 5s 3ms/step - loss: 0.1900 - val_loss: 0.1986\n",
            "Epoch 56/100\n",
            "1576/1576 [==============================] - 5s 3ms/step - loss: 0.1905 - val_loss: 0.1992\n",
            "Epoch 57/100\n",
            "1576/1576 [==============================] - 5s 3ms/step - loss: 0.1897 - val_loss: 0.1993\n",
            "Epoch 58/100\n",
            "1576/1576 [==============================] - 5s 3ms/step - loss: 0.1906 - val_loss: 0.1988\n",
            "Epoch 59/100\n",
            "1576/1576 [==============================] - 5s 3ms/step - loss: 0.1899 - val_loss: 0.1993\n",
            "Epoch 60/100\n",
            "1576/1576 [==============================] - 5s 3ms/step - loss: 0.1909 - val_loss: 0.1995\n",
            "Epoch 61/100\n",
            "1576/1576 [==============================] - 5s 3ms/step - loss: 0.1904 - val_loss: 0.2004\n",
            "Epoch 62/100\n",
            "1576/1576 [==============================] - 5s 3ms/step - loss: 0.1895 - val_loss: 0.1988\n",
            "Epoch 63/100\n",
            "1576/1576 [==============================] - 5s 3ms/step - loss: 0.1893 - val_loss: 0.1980\n",
            "Epoch 64/100\n",
            "1576/1576 [==============================] - 5s 3ms/step - loss: 0.1892 - val_loss: 0.1983\n",
            "Epoch 65/100\n",
            "1576/1576 [==============================] - 5s 3ms/step - loss: 0.1892 - val_loss: 0.1997\n",
            "Epoch 66/100\n",
            "1576/1576 [==============================] - 5s 3ms/step - loss: 0.1900 - val_loss: 0.1992\n",
            "Epoch 67/100\n",
            "1576/1576 [==============================] - 5s 3ms/step - loss: 0.1885 - val_loss: 0.1986\n",
            "Epoch 68/100\n",
            "1576/1576 [==============================] - 5s 3ms/step - loss: 0.1883 - val_loss: 0.1984\n",
            "Epoch 69/100\n",
            "1576/1576 [==============================] - 5s 3ms/step - loss: 0.1882 - val_loss: 0.1987\n",
            "Epoch 70/100\n",
            "1576/1576 [==============================] - 5s 3ms/step - loss: 0.1893 - val_loss: 0.2007\n",
            "Epoch 71/100\n",
            "1576/1576 [==============================] - 5s 3ms/step - loss: 0.1892 - val_loss: 0.1978\n",
            "Epoch 72/100\n",
            "1576/1576 [==============================] - 5s 3ms/step - loss: 0.1888 - val_loss: 0.2112\n",
            "Epoch 73/100\n",
            "1576/1576 [==============================] - 5s 3ms/step - loss: 0.1891 - val_loss: 0.2054\n",
            "Epoch 74/100\n",
            "1576/1576 [==============================] - 5s 3ms/step - loss: 0.1886 - val_loss: 0.1973\n",
            "Epoch 75/100\n",
            "1576/1576 [==============================] - 5s 3ms/step - loss: 0.1881 - val_loss: 0.1980\n",
            "Epoch 76/100\n",
            "1576/1576 [==============================] - 5s 3ms/step - loss: 0.1881 - val_loss: 0.2007\n",
            "Epoch 77/100\n",
            "1576/1576 [==============================] - 5s 3ms/step - loss: 0.1888 - val_loss: 0.1974\n",
            "Epoch 78/100\n",
            "1576/1576 [==============================] - 5s 3ms/step - loss: 0.1877 - val_loss: 0.2003\n",
            "Epoch 79/100\n",
            "1576/1576 [==============================] - 5s 3ms/step - loss: 0.1877 - val_loss: 0.2034\n",
            "Epoch 80/100\n",
            "1576/1576 [==============================] - 5s 3ms/step - loss: 0.1873 - val_loss: 0.2000\n",
            "Epoch 81/100\n",
            "1576/1576 [==============================] - 5s 3ms/step - loss: 0.1883 - val_loss: 0.1980\n",
            "Epoch 82/100\n",
            "1576/1576 [==============================] - 5s 3ms/step - loss: 0.1880 - val_loss: 0.1971\n",
            "Epoch 83/100\n",
            "1576/1576 [==============================] - 5s 3ms/step - loss: 0.1872 - val_loss: 0.1982\n",
            "Epoch 84/100\n",
            "1576/1576 [==============================] - 5s 3ms/step - loss: 0.1875 - val_loss: 0.2003\n",
            "Epoch 85/100\n",
            "1576/1576 [==============================] - 5s 3ms/step - loss: 0.1875 - val_loss: 0.1995\n",
            "Epoch 86/100\n",
            "1576/1576 [==============================] - 5s 3ms/step - loss: 0.1873 - val_loss: 0.2005\n",
            "Epoch 87/100\n",
            "1576/1576 [==============================] - 5s 3ms/step - loss: 0.1869 - val_loss: 0.2009\n",
            "Epoch 88/100\n",
            "1576/1576 [==============================] - 5s 3ms/step - loss: 0.1867 - val_loss: 0.1976\n",
            "Epoch 89/100\n",
            "1576/1576 [==============================] - 5s 3ms/step - loss: 0.1868 - val_loss: 0.1984\n",
            "Epoch 90/100\n",
            "1576/1576 [==============================] - 5s 3ms/step - loss: 0.1866 - val_loss: 0.1964\n",
            "Epoch 91/100\n",
            "1576/1576 [==============================] - 5s 3ms/step - loss: 0.1873 - val_loss: 0.1964\n",
            "Epoch 92/100\n",
            "1576/1576 [==============================] - 5s 3ms/step - loss: 0.1865 - val_loss: 0.1967\n",
            "Epoch 93/100\n",
            "1576/1576 [==============================] - 5s 3ms/step - loss: 0.1861 - val_loss: 0.2031\n",
            "Epoch 94/100\n",
            "1576/1576 [==============================] - 5s 3ms/step - loss: 0.1875 - val_loss: 0.1992\n",
            "Epoch 95/100\n",
            "1576/1576 [==============================] - 5s 3ms/step - loss: 0.1862 - val_loss: 0.1981\n",
            "Epoch 96/100\n",
            "1576/1576 [==============================] - 5s 3ms/step - loss: 0.1873 - val_loss: 0.1977\n",
            "Epoch 97/100\n",
            "1576/1576 [==============================] - 5s 3ms/step - loss: 0.1871 - val_loss: 0.1966\n",
            "Epoch 98/100\n",
            "1576/1576 [==============================] - 5s 3ms/step - loss: 0.1865 - val_loss: 0.1979\n",
            "Epoch 99/100\n",
            "1576/1576 [==============================] - 5s 3ms/step - loss: 0.1876 - val_loss: 0.1973\n",
            "Epoch 100/100\n",
            "1576/1576 [==============================] - 5s 3ms/step - loss: 0.1861 - val_loss: 0.1969\n"
          ],
          "name": "stdout"
        }
      ]
    },
    {
      "cell_type": "code",
      "metadata": {
        "id": "d-xOthiQufpa",
        "outputId": "7a91d10b-8c18-4ba3-e6fa-d02c26c9dff4",
        "colab": {
          "base_uri": "https://localhost:8080/",
          "height": 514
        }
      },
      "source": [
        "# Visualize the training and validation loss\n",
        "\n",
        "losses = history.history['loss'] + history.history['val_loss']\n",
        "types = ['Training Loss'] * len(history.history['loss']) + ['Validation Loss'] * len(history.history['val_loss'])\n",
        "epoches = history.epoch + history.epoch\n",
        "df_losses = pd.DataFrame({'Loss': losses, 'Epoch':epoches, 'Type': types})\n",
        "\n",
        "plt.figure(figsize=(10, 8))\n",
        "ax = sns.lineplot(data=df_losses, x='Epoch', y='Loss', hue='Type')\n",
        "ax.set(ylim=(min(df_losses['Loss']) * 0.8, max(df_losses['Loss']) * 1.2))"
      ],
      "execution_count": 20,
      "outputs": [
        {
          "output_type": "execute_result",
          "data": {
            "text/plain": [
              "[(0.1488811077278322, 0.41277609602646576)]"
            ]
          },
          "metadata": {
            "tags": []
          },
          "execution_count": 20
        },
        {
          "output_type": "display_data",
          "data": {
            "image/png": "[encoded data removed]",
            "text/plain": [
              "<Figure size 720x576 with 1 Axes>"
            ]
          },
          "metadata": {
            "tags": [],
            "needs_background": "light"
          }
        }
      ]
    },
    {
      "cell_type": "markdown",
      "metadata": {
        "id": "yINIj34CQVmR"
      },
      "source": [
        "## Detecting an Anomaly\n",
        "\n",
        "We are now ready to see if the abnormal data registers as an anomaly. \n",
        "- The first score shows the insample RMSE error.\n",
        "- The second score shows the out-of-sample RMSE error.\n",
        "- The first score is low as they resulted from normal data.\n",
        "- The much higher error occurred from the abnormal data as the autoencoder is not as capable of encoding data that represets an attack. \n",
        "- This higher error indicates an anomaly."
      ]
    },
    {
      "cell_type": "code",
      "metadata": {
        "id": "AhRUVBznQVmS",
        "outputId": "e09f9420-3b9c-4945-a984-60223c593fa8",
        "colab": {
          "base_uri": "https://localhost:8080/",
          "height": 51
        }
      },
      "source": [
        "pred_normal = model.predict(x_normal)\n",
        "score_normal = metrics.mean_squared_error(pred_normal, x_normal)\n",
        "\n",
        "pred_anomaly = model.predict(x_attack)\n",
        "score_anomaly = metrics.mean_squared_error(pred_anomaly, x_attack)\n",
        "\n",
        "print(f\"Insample Normal Score (RMSE): {score_normal}\")\n",
        "print(f\"Attack Underway Score (RMSE): {score_anomaly}\")"
      ],
      "execution_count": 21,
      "outputs": [
        {
          "output_type": "stream",
          "text": [
            "Insample Normal Score (RMSE): 0.2569971589714577\n",
            "Attack Underway Score (RMSE): 0.6273730367312794\n"
          ],
          "name": "stdout"
        }
      ]
    },
    {
      "cell_type": "markdown",
      "metadata": {
        "id": "R3hbPdqv2UL-"
      },
      "source": [
        "## Next, we generate the distribution of RMSE for both normal and attack data"
      ]
    },
    {
      "cell_type": "code",
      "metadata": {
        "id": "cx79xybxyQqg",
        "outputId": "3123a203-3be5-4611-acf2-99e31d415e92",
        "colab": {
          "base_uri": "https://localhost:8080/",
          "height": 297
        }
      },
      "source": [
        "diff_normal = pred_normal - x_normal\n",
        "diff_anomaly = pred_anomaly - x_attack\n",
        "\n",
        "scores_normal = np.power(diff_normal, 2).flatten()\n",
        "scores_anomaly = np.power(diff_anomaly, 2).flatten()\n",
        "\n",
        "df_normal = pd.DataFrame({'normal': scores_normal})\n",
        "df_anomaly = pd.DataFrame({'anomaly': scores_anomaly})\n",
        "\n",
        "df_comparison = pd.concat([df_normal.describe(), df_anomaly.describe()], axis=1)\n",
        "\n",
        "df_comparison"
      ],
      "execution_count": 23,
      "outputs": [
        {
          "output_type": "execute_result",
          "data": {
            "text/html": [
              "<div>\n",
              "<style scoped>\n",
              "    .dataframe tbody tr th:only-of-type {\n",
              "        vertical-align: middle;\n",
              "    }\n",
              "\n",
              "    .dataframe tbody tr th {\n",
              "        vertical-align: top;\n",
              "    }\n",
              "\n",
              "    .dataframe thead th {\n",
              "        text-align: right;\n",
              "    }\n",
              "</style>\n",
              "<table border=\"1\" class=\"dataframe\">\n",
              "  <thead>\n",
              "    <tr style=\"text-align: right;\">\n",
              "      <th></th>\n",
              "      <th>normal</th>\n",
              "      <th>anomaly</th>\n",
              "    </tr>\n",
              "  </thead>\n",
              "  <tbody>\n",
              "    <tr>\n",
              "      <th>count</th>\n",
              "      <td>1.138153e+07</td>\n",
              "      <td>4.641893e+07</td>\n",
              "    </tr>\n",
              "    <tr>\n",
              "      <th>mean</th>\n",
              "      <td>2.569972e-01</td>\n",
              "      <td>6.273730e-01</td>\n",
              "    </tr>\n",
              "    <tr>\n",
              "      <th>std</th>\n",
              "      <td>1.650865e+02</td>\n",
              "      <td>8.045040e+01</td>\n",
              "    </tr>\n",
              "    <tr>\n",
              "      <th>min</th>\n",
              "      <td>2.638424e-22</td>\n",
              "      <td>9.175838e-20</td>\n",
              "    </tr>\n",
              "    <tr>\n",
              "      <th>25%</th>\n",
              "      <td>6.094355e-07</td>\n",
              "      <td>3.173459e-05</td>\n",
              "    </tr>\n",
              "    <tr>\n",
              "      <th>50%</th>\n",
              "      <td>3.832799e-06</td>\n",
              "      <td>1.778711e-04</td>\n",
              "    </tr>\n",
              "    <tr>\n",
              "      <th>75%</th>\n",
              "      <td>1.290979e-04</td>\n",
              "      <td>2.159755e-02</td>\n",
              "    </tr>\n",
              "    <tr>\n",
              "      <th>max</th>\n",
              "      <td>2.964149e+05</td>\n",
              "      <td>4.922274e+05</td>\n",
              "    </tr>\n",
              "  </tbody>\n",
              "</table>\n",
              "</div>"
            ],
            "text/plain": [
              "             normal       anomaly\n",
              "count  1.138153e+07  4.641893e+07\n",
              "mean   2.569972e-01  6.273730e-01\n",
              "std    1.650865e+02  8.045040e+01\n",
              "min    2.638424e-22  9.175838e-20\n",
              "25%    6.094355e-07  3.173459e-05\n",
              "50%    3.832799e-06  1.778711e-04\n",
              "75%    1.290979e-04  2.159755e-02\n",
              "max    2.964149e+05  4.922274e+05"
            ]
          },
          "metadata": {
            "tags": []
          },
          "execution_count": 23
        }
      ]
    },
    {
      "cell_type": "code",
      "metadata": {
        "id": "JDCXvTOJUAWa",
        "outputId": "9ad75d62-1d95-48c9-d61f-d630155c0f79",
        "colab": {
          "base_uri": "https://localhost:8080/",
          "height": 359
        }
      },
      "source": [
        "normal_scores, anomaly_scores = [], []\n",
        "\n",
        "for p in range(50, 100, 5):\n",
        "  normal_scores.append(np.percentile(scores_normal, p))\n",
        "  anomaly_scores.append(np.percentile(scores_anomaly, p))\n",
        "\n",
        "percentile_values = pd.DataFrame({'Percentile': range(50, 100, 5), \n",
        "                                  'Score Normal': normal_scores, \n",
        "                                  'Score Anomaly': anomaly_scores})\n",
        "percentile_values"
      ],
      "execution_count": 39,
      "outputs": [
        {
          "output_type": "execute_result",
          "data": {
            "text/html": [
              "<div>\n",
              "<style scoped>\n",
              "    .dataframe tbody tr th:only-of-type {\n",
              "        vertical-align: middle;\n",
              "    }\n",
              "\n",
              "    .dataframe tbody tr th {\n",
              "        vertical-align: top;\n",
              "    }\n",
              "\n",
              "    .dataframe thead th {\n",
              "        text-align: right;\n",
              "    }\n",
              "</style>\n",
              "<table border=\"1\" class=\"dataframe\">\n",
              "  <thead>\n",
              "    <tr style=\"text-align: right;\">\n",
              "      <th></th>\n",
              "      <th>Percentile</th>\n",
              "      <th>Score Normal</th>\n",
              "      <th>Score Anomaly</th>\n",
              "    </tr>\n",
              "  </thead>\n",
              "  <tbody>\n",
              "    <tr>\n",
              "      <th>0</th>\n",
              "      <td>50</td>\n",
              "      <td>0.000004</td>\n",
              "      <td>0.000178</td>\n",
              "    </tr>\n",
              "    <tr>\n",
              "      <th>1</th>\n",
              "      <td>55</td>\n",
              "      <td>0.000006</td>\n",
              "      <td>0.000269</td>\n",
              "    </tr>\n",
              "    <tr>\n",
              "      <th>2</th>\n",
              "      <td>60</td>\n",
              "      <td>0.000010</td>\n",
              "      <td>0.000649</td>\n",
              "    </tr>\n",
              "    <tr>\n",
              "      <th>3</th>\n",
              "      <td>65</td>\n",
              "      <td>0.000021</td>\n",
              "      <td>0.003605</td>\n",
              "    </tr>\n",
              "    <tr>\n",
              "      <th>4</th>\n",
              "      <td>70</td>\n",
              "      <td>0.000052</td>\n",
              "      <td>0.009832</td>\n",
              "    </tr>\n",
              "    <tr>\n",
              "      <th>5</th>\n",
              "      <td>75</td>\n",
              "      <td>0.000129</td>\n",
              "      <td>0.021598</td>\n",
              "    </tr>\n",
              "    <tr>\n",
              "      <th>6</th>\n",
              "      <td>80</td>\n",
              "      <td>0.000333</td>\n",
              "      <td>0.049856</td>\n",
              "    </tr>\n",
              "    <tr>\n",
              "      <th>7</th>\n",
              "      <td>85</td>\n",
              "      <td>0.000906</td>\n",
              "      <td>0.140991</td>\n",
              "    </tr>\n",
              "    <tr>\n",
              "      <th>8</th>\n",
              "      <td>90</td>\n",
              "      <td>0.002740</td>\n",
              "      <td>0.355025</td>\n",
              "    </tr>\n",
              "    <tr>\n",
              "      <th>9</th>\n",
              "      <td>95</td>\n",
              "      <td>0.012315</td>\n",
              "      <td>1.433943</td>\n",
              "    </tr>\n",
              "  </tbody>\n",
              "</table>\n",
              "</div>"
            ],
            "text/plain": [
              "   Percentile  Score Normal  Score Anomaly\n",
              "0          50      0.000004       0.000178\n",
              "1          55      0.000006       0.000269\n",
              "2          60      0.000010       0.000649\n",
              "3          65      0.000021       0.003605\n",
              "4          70      0.000052       0.009832\n",
              "5          75      0.000129       0.021598\n",
              "6          80      0.000333       0.049856\n",
              "7          85      0.000906       0.140991\n",
              "8          90      0.002740       0.355025\n",
              "9          95      0.012315       1.433943"
            ]
          },
          "metadata": {
            "tags": []
          },
          "execution_count": 39
        }
      ]
    },
    {
      "cell_type": "code",
      "metadata": {
        "id": "6ljNhHu9VnNI"
      },
      "source": [
        ""
      ],
      "execution_count": null,
      "outputs": []
    }
  ]
}