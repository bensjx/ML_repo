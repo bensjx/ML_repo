{
 "cells": [
  {
   "cell_type": "markdown",
   "metadata": {},
   "source": [
    "# How CNN see and understand Image Data"
   ]
  },
  {
   "cell_type": "markdown",
   "metadata": {},
   "source": [
    "The convolutional network (CNN), that is especially suited for feature extraction of image data. A CNN is a neural network typically composed of two components:\n",
    "1. one component for extracting useful features of the data: **Convolutional Layer** and **Pooling Layer**\n",
    "\n",
    "2. another for performing a ML task (like classification based on the featurized data): **Fully-connected Layer**"
   ]
  },
  {
   "cell_type": "markdown",
   "metadata": {},
   "source": [
    "In this notebook, we will focus on feature extraction parts behind CNN, i.e., convolutional layer and pooling layer. We hope you can gain more understanding about CNN through this section. "
   ]
  },
  {
   "cell_type": "markdown",
   "metadata": {},
   "source": [
    "##### Filter Operation"
   ]
  },
  {
   "cell_type": "markdown",
   "metadata": {},
   "source": [
    "<img src=\"imgs/filter.gif\" width=\"400\" align=\"center\">"
   ]
  },
  {
   "cell_type": "markdown",
   "metadata": {},
   "source": [
    "##### Pooling Operation"
   ]
  },
  {
   "cell_type": "markdown",
   "metadata": {},
   "source": [
    "![pool](imgs/pool.png)"
   ]
  },
  {
   "cell_type": "markdown",
   "metadata": {},
   "source": [
    "### Warm-Up"
   ]
  },
  {
   "cell_type": "markdown",
   "metadata": {},
   "source": [
    "Prepare the image \"T\" as a 2D Numpy array. And visualize it."
   ]
  },
  {
   "cell_type": "code",
   "execution_count": 1,
   "metadata": {},
   "outputs": [],
   "source": [
    "import numpy as np\n",
    "img = np.array([\n",
    "[1,1,1,1,1,1],\n",
    "[1,1,1,1,1,1],\n",
    "[0,0,1,1,0,0],\n",
    "[0,0,1,1,0,0],\n",
    "[0,0,1,1,0,0],\n",
    "[0,0,1,1,0,0],]\n",
    ")"
   ]
  },
  {
   "cell_type": "code",
   "execution_count": 2,
   "metadata": {},
   "outputs": [
    {
     "data": {
      "text/plain": [
       "<matplotlib.image.AxesImage at 0x112d09cc0>"
      ]
     },
     "execution_count": 2,
     "metadata": {},
     "output_type": "execute_result"
    },
    {
     "data": {
      "image/png": "[encoded data removed]",
      "text/plain": [
       "<Figure size 432x288 with 1 Axes>"
      ]
     },
     "metadata": {
      "needs_background": "light"
     },
     "output_type": "display_data"
    }
   ],
   "source": [
    "%matplotlib inline\n",
    "from matplotlib import pyplot as plt\n",
    "plt.imshow(img, cmap='gray')"
   ]
  },
  {
   "cell_type": "markdown",
   "metadata": {},
   "source": [
    "Generate the kernel"
   ]
  },
  {
   "cell_type": "code",
   "execution_count": 3,
   "metadata": {},
   "outputs": [],
   "source": [
    "filters = np.array([[1, 1, 1],\n",
    "                  [1, 1, 1],\n",
    "                  [0, 0, 0]])"
   ]
  },
  {
   "cell_type": "markdown",
   "metadata": {},
   "source": [
    "Use this kernel and convolve over the image with same border mode (with [scipy.signal.convolve2d](https://docs.scipy.org/doc/scipy/reference/generated/scipy.signal.convolve2d.html)).**"
   ]
  },
  {
   "cell_type": "code",
   "execution_count": 4,
   "metadata": {},
   "outputs": [],
   "source": [
    "from scipy.signal import convolve2d\n",
    "fil_imgs = convolve2d(img, filters, mode='same')"
   ]
  },
  {
   "cell_type": "markdown",
   "metadata": {},
   "source": [
    "Plot the image."
   ]
  },
  {
   "cell_type": "code",
   "execution_count": 5,
   "metadata": {},
   "outputs": [
    {
     "data": {
      "text/plain": [
       "<matplotlib.image.AxesImage at 0x11b0fb5c0>"
      ]
     },
     "execution_count": 5,
     "metadata": {},
     "output_type": "execute_result"
    },
    {
     "data": {
      "image/png": "[encoded data removed]",
      "text/plain": [
       "<Figure size 432x288 with 1 Axes>"
      ]
     },
     "metadata": {
      "needs_background": "light"
     },
     "output_type": "display_data"
    }
   ],
   "source": [
    "plt.imshow(fil_imgs, cmap='gray')"
   ]
  },
  {
   "cell_type": "markdown",
   "metadata": {},
   "source": [
    "Take a moment to examine the convolved images. You should see that convolutional filters can both accentuate and dampen specific features in input images such as curves, edges or colours. ."
   ]
  },
  {
   "cell_type": "markdown",
   "metadata": {},
   "source": [
    "Now you may design a new filter as [[1, 1, 0], [1, 1, 0],[1, 1, 0]]. And check the results"
   ]
  },
  {
   "cell_type": "code",
   "execution_count": 6,
   "metadata": {},
   "outputs": [],
   "source": [
    "filters_2 = np.array([[1, 1, 0],\n",
    "                      [1, 1, 0],\n",
    "                      [1,1, 0]])"
   ]
  },
  {
   "cell_type": "code",
   "execution_count": 7,
   "metadata": {},
   "outputs": [
    {
     "data": {
      "text/plain": [
       "array([[1, 1, 0],\n",
       "       [1, 1, 0],\n",
       "       [1, 1, 0]])"
      ]
     },
     "execution_count": 7,
     "metadata": {},
     "output_type": "execute_result"
    }
   ],
   "source": [
    "filters_2"
   ]
  },
  {
   "cell_type": "code",
   "execution_count": 8,
   "metadata": {},
   "outputs": [
    {
     "data": {
      "text/plain": [
       "<matplotlib.image.AxesImage at 0x11b182cf8>"
      ]
     },
     "execution_count": 8,
     "metadata": {},
     "output_type": "execute_result"
    },
    {
     "data": {
      "image/png": "[encoded data removed]",
      "text/plain": [
       "<Figure size 432x288 with 1 Axes>"
      ]
     },
     "metadata": {
      "needs_background": "light"
     },
     "output_type": "display_data"
    }
   ],
   "source": [
    "fil_imgs2 = convolve2d(img, filters_2, mode='same')\n",
    "plt.imshow(fil_imgs2, cmap='gray')"
   ]
  },
  {
   "cell_type": "markdown",
   "metadata": {},
   "source": [
    "1. **Different convolutional filters extract different features** \n",
    "2. it is the combination of the resulting feature maps that powers the CNNs predictions. \n",
    "3. In the following, we add non-linear activation and pooling functions on a real image"
   ]
  },
  {
   "cell_type": "markdown",
   "metadata": {},
   "source": [
    "### Part 2:  Pokemon Convolution!\n",
    "\n",
    "Yup, it is not Pokemon go."
   ]
  },
  {
   "cell_type": "markdown",
   "metadata": {},
   "source": [
    "Consider the following image of a pikka, which you will find in `pokemon.png`:\n",
    "\n",
    "![pik](pokemon.png)\n",
    "\n",
    "The image is already normalized into the scale [0, 1].\n",
    "\n",
    "**Perform the following steps for four images:**\n",
    "\n",
    "**1. Create the edge detection filter.**\n",
    "\n",
    "As shown in the slide\n",
    "\n",
    "**2. Use this kernel and convolve over the image with same border mode (with [scipy.signal.convolve2d])**\n",
    "\n",
    "**3. Plot the image**\n",
    "\n",
    "**4. In the resulting image, set all pixel values less than zero to zero (using np.clip()). In other words:**\n",
    "\n",
    "\n",
    "`\n",
    "if x < 0:\n",
    "    x = 0\n",
    "else:\n",
    "    x = x\n",
    "`\n",
    "\n",
    "(What is the non-linear activation function?)"
   ]
  },
  {
   "cell_type": "code",
   "execution_count": 9,
   "metadata": {},
   "outputs": [],
   "source": [
    "from matplotlib.image import imread\n",
    "import numpy as np\n",
    "img = imread('pokemon.png')"
   ]
  },
  {
   "cell_type": "code",
   "execution_count": 10,
   "metadata": {},
   "outputs": [
    {
     "data": {
      "text/plain": [
       "<matplotlib.image.AxesImage at 0x11b25f9e8>"
      ]
     },
     "execution_count": 10,
     "metadata": {},
     "output_type": "execute_result"
    },
    {
     "data": {
      "image/png": "[encoded data removed]",
      "text/plain": [
       "<Figure size 432x288 with 1 Axes>"
      ]
     },
     "metadata": {
      "needs_background": "light"
     },
     "output_type": "display_data"
    }
   ],
   "source": [
    "plt.imshow(img, cmap='gray')"
   ]
  },
  {
   "cell_type": "code",
   "execution_count": 11,
   "metadata": {},
   "outputs": [
    {
     "name": "stdout",
     "output_type": "stream",
     "text": [
      "1.0 0.0\n"
     ]
    }
   ],
   "source": [
    "print(img.max(), img.min())"
   ]
  },
  {
   "cell_type": "code",
   "execution_count": 12,
   "metadata": {},
   "outputs": [
    {
     "data": {
      "text/plain": [
       "(183, 275)"
      ]
     },
     "execution_count": 12,
     "metadata": {},
     "output_type": "execute_result"
    }
   ],
   "source": [
    "img.shape"
   ]
  },
  {
   "cell_type": "code",
   "execution_count": 13,
   "metadata": {},
   "outputs": [],
   "source": [
    "# generate one kernel for edge detection\n",
    "#kernel = np.random.rand(3,3)\n",
    "kernel = np.array([[1, 0,-1],\n",
    "                      [0, 0,0],\n",
    "                      [-1, 0, 1]])"
   ]
  },
  {
   "cell_type": "code",
   "execution_count": 14,
   "metadata": {},
   "outputs": [
    {
     "name": "stdout",
     "output_type": "stream",
     "text": [
      "[[ 1  0 -1]\n",
      " [ 0  0  0]\n",
      " [-1  0  1]]\n"
     ]
    }
   ],
   "source": [
    "print(kernel)"
   ]
  },
  {
   "cell_type": "code",
   "execution_count": 15,
   "metadata": {},
   "outputs": [],
   "source": [
    "# solution\n",
    "conv_img = convolve2d(img, kernel, mode='same')"
   ]
  },
  {
   "cell_type": "code",
   "execution_count": 16,
   "metadata": {
    "scrolled": false
   },
   "outputs": [
    {
     "data": {
      "text/plain": [
       "<matplotlib.image.AxesImage at 0x11b4d07b8>"
      ]
     },
     "execution_count": 16,
     "metadata": {},
     "output_type": "execute_result"
    },
    {
     "data": {
      "image/png": "[encoded data removed]",
      "text/plain": [
       "<Figure size 432x288 with 1 Axes>"
      ]
     },
     "metadata": {
      "needs_background": "light"
     },
     "output_type": "display_data"
    }
   ],
   "source": [
    "# here assume the conv_img is the output of the filter operation\n",
    "plt.imshow(conv_img, cmap='gray')"
   ]
  },
  {
   "cell_type": "code",
   "execution_count": 17,
   "metadata": {},
   "outputs": [],
   "source": [
    "# solution\n",
    "conv_img_nonlinear = np.clip(conv_img, a_min=0, a_max=None)"
   ]
  },
  {
   "cell_type": "code",
   "execution_count": 18,
   "metadata": {},
   "outputs": [
    {
     "data": {
      "text/plain": [
       "<matplotlib.image.AxesImage at 0x112db3240>"
      ]
     },
     "execution_count": 18,
     "metadata": {},
     "output_type": "execute_result"
    },
    {
     "data": {
      "image/png": "[encoded data removed]",
      "text/plain": [
       "<Figure size 432x288 with 1 Axes>"
      ]
     },
     "metadata": {
      "needs_background": "light"
     },
     "output_type": "display_data"
    }
   ],
   "source": [
    "# here assume the conv_img_nonlinear is the output of the filter operation\n",
    "plt.imshow(conv_img_nonlinear,cmap='gray')"
   ]
  },
  {
   "cell_type": "markdown",
   "metadata": {},
   "source": [
    "https://en.wikipedia.org/wiki/Grayscale"
   ]
  },
  {
   "cell_type": "markdown",
   "metadata": {},
   "source": [
    "#### Apply max-pooling operation over the image (https://stackoverflow.com/questions/42463172/how-to-perform-max-mean-pooling-on-a-2d-array-using-numpy)** \n",
    "Here, the pooling size is set to *(3, 3)*\n"
   ]
  },
  {
   "cell_type": "code",
   "execution_count": 19,
   "metadata": {},
   "outputs": [],
   "source": [
    "# here assume the conv_img_nonlinear is the output of the filter operation\n",
    "import skimage.measure\n",
    "pool_img = skimage.measure.block_reduce(conv_img_nonlinear, (3,3), np.max)"
   ]
  },
  {
   "cell_type": "code",
   "execution_count": 20,
   "metadata": {},
   "outputs": [
    {
     "data": {
      "text/plain": [
       "<matplotlib.image.AxesImage at 0x11bc11208>"
      ]
     },
     "execution_count": 20,
     "metadata": {},
     "output_type": "execute_result"
    },
    {
     "data": {
      "image/png": "[encoded data removed]",
      "text/plain": [
       "<Figure size 432x288 with 1 Axes>"
      ]
     },
     "metadata": {
      "needs_background": "light"
     },
     "output_type": "display_data"
    }
   ],
   "source": [
    "# here assume the conv_img_nonlinear is the output of the filter operation\n",
    "plt.imshow(pool_img,cmap='gray')"
   ]
  },
  {
   "cell_type": "code",
   "execution_count": 21,
   "metadata": {},
   "outputs": [],
   "source": [
    "# Then, this vector can be fed into the dense layers to predict the label\n",
    "final_vec = pool_img.flatten()"
   ]
  },
  {
   "cell_type": "markdown",
   "metadata": {},
   "source": [
    "### Part 3: Build CNN using Keras"
   ]
  },
  {
   "cell_type": "markdown",
   "metadata": {},
   "source": [
    "Fortunately, we do not need to implement Convolutional and Pooling layer from stratch. We have already built a CNN model for Fashion-MNIST data. The gradients can be automatically computed and the model weights can then be learned. Then, we may ask ourselves What does a CNN learn? \n",
    "\n",
    "Let us firstly try a very simple CNN structure."
   ]
  },
  {
   "cell_type": "code",
   "execution_count": 22,
   "metadata": {},
   "outputs": [
    {
     "name": "stderr",
     "output_type": "stream",
     "text": [
      "Using TensorFlow backend.\n"
     ]
    }
   ],
   "source": [
    "from keras.layers import Conv2D, MaxPooling2D, Input, Flatten, Dense, Dropout\n",
    "from keras.models import Sequential\n",
    "import keras\n",
    "data = keras.datasets.fashion_mnist\n",
    "(x_train_all, y_train_all), (x_test_all, y_test_all) = data.load_data()"
   ]
  },
  {
   "cell_type": "code",
   "execution_count": 23,
   "metadata": {},
   "outputs": [],
   "source": [
    "class_names = [ \"T-shirt/top\", \"Trouser\", \"Pullover\", \n",
    "                \"Dress\", \"Coat\", \"Sandal\", \"Shirt\",\n",
    "                \"Sneaker\", \"Bag\", \"Ankle boot\" ]\n",
    "# take images from only two class: Sneaker and Ankle boot\n",
    "x_train = x_train_all[(y_train_all == 7) | (y_train_all == 9)]\n",
    "y_train = y_train_all[(y_train_all == 7) | (y_train_all == 9)]\n",
    "y_train[y_train==7] = 0\n",
    "y_train[y_train==9] = 1"
   ]
  },
  {
   "cell_type": "code",
   "execution_count": 24,
   "metadata": {},
   "outputs": [
    {
     "data": {
      "text/plain": [
       "(12000, 28, 28)"
      ]
     },
     "execution_count": 24,
     "metadata": {},
     "output_type": "execute_result"
    }
   ],
   "source": [
    "x_train.shape"
   ]
  },
  {
   "cell_type": "code",
   "execution_count": 25,
   "metadata": {},
   "outputs": [],
   "source": [
    "x_test = x_test_all[(y_test_all == 7) | (y_test_all == 9)]\n",
    "y_test = y_test_all[(y_test_all == 7) | (y_test_all == 9)]\n",
    "y_test[y_test==7] = 0\n",
    "y_test[y_test==9] = 1"
   ]
  },
  {
   "cell_type": "code",
   "execution_count": 26,
   "metadata": {},
   "outputs": [
    {
     "data": {
      "text/plain": [
       "(2000, 28, 28)"
      ]
     },
     "execution_count": 26,
     "metadata": {},
     "output_type": "execute_result"
    }
   ],
   "source": [
    "x_test.shape"
   ]
  },
  {
   "cell_type": "code",
   "execution_count": 27,
   "metadata": {},
   "outputs": [
    {
     "data": {
      "text/plain": [
       "array([1, 0, 1, ..., 1, 0, 0], dtype=uint8)"
      ]
     },
     "execution_count": 27,
     "metadata": {},
     "output_type": "execute_result"
    }
   ],
   "source": [
    "y_train"
   ]
  },
  {
   "cell_type": "code",
   "execution_count": 28,
   "metadata": {},
   "outputs": [],
   "source": [
    "x_train = x_train.reshape(12000, 28, 28, 1)\n",
    "x_test  = x_test.reshape(2000, 28, 28, 1)\n",
    "\n",
    "x_val, x_train = x_train[:1000] / 255.0, x_train[1000:] / 255.0\n",
    "y_val, y_train = y_train[:1000] , y_train[1000:] "
   ]
  },
  {
   "cell_type": "code",
   "execution_count": 29,
   "metadata": {},
   "outputs": [
    {
     "data": {
      "text/plain": [
       "(11000, 28, 28, 1)"
      ]
     },
     "execution_count": 29,
     "metadata": {},
     "output_type": "execute_result"
    }
   ],
   "source": [
    "x_train.shape"
   ]
  },
  {
   "cell_type": "code",
   "execution_count": 30,
   "metadata": {},
   "outputs": [],
   "source": [
    "kernel_size = (3, 3)\n",
    "stride_size = (1, 1)\n",
    "num_filters = 4\n",
    "\n",
    "cnn_model = Sequential()\n",
    "# feature extraction layer 0: convolution\n",
    "cnn_model.add(Conv2D(num_filters, kernel_size=kernel_size,\n",
    "                 activation='relu',\n",
    "                 input_shape=(28, 28, 1)))\n",
    "# feature extraction layer 1: max pooling\n",
    "cnn_model.add(MaxPooling2D(pool_size=(2, 2)))\n",
    "# classification layer 2: flattening\n",
    "cnn_model.add(Flatten())\n",
    "# classification layer 3: dense non-linear transformation\n",
    "cnn_model.add(Dense(100, activation='relu'))\n",
    "# classification layer 4: output label probability\n",
    "cnn_model.add(Dense(1, activation='sigmoid'))\n",
    "\n",
    "cnn_model.compile(loss='binary_crossentropy',\n",
    "                  optimizer=keras.optimizers.adam(lr=0.01),\n",
    "                  metrics=['accuracy'])"
   ]
  },
  {
   "cell_type": "code",
   "execution_count": 31,
   "metadata": {},
   "outputs": [
    {
     "name": "stdout",
     "output_type": "stream",
     "text": [
      "Train on 11000 samples, validate on 1000 samples\n",
      "Epoch 1/20\n",
      "11000/11000 [==============================] - 5s 423us/step - loss: 0.1260 - accuracy: 0.9505 - val_loss: 0.0997 - val_accuracy: 0.9640\n",
      "Epoch 2/20\n",
      "11000/11000 [==============================] - 5s 438us/step - loss: 0.0832 - accuracy: 0.9692 - val_loss: 0.0710 - val_accuracy: 0.9760\n",
      "Epoch 3/20\n",
      "11000/11000 [==============================] - 4s 352us/step - loss: 0.0688 - accuracy: 0.9723 - val_loss: 0.0744 - val_accuracy: 0.9750\n",
      "Epoch 4/20\n",
      "11000/11000 [==============================] - 5s 440us/step - loss: 0.0569 - accuracy: 0.9784 - val_loss: 0.0842 - val_accuracy: 0.9760\n",
      "Epoch 5/20\n",
      "11000/11000 [==============================] - 4s 376us/step - loss: 0.0530 - accuracy: 0.9799 - val_loss: 0.0837 - val_accuracy: 0.9780\n",
      "Epoch 6/20\n",
      "11000/11000 [==============================] - 4s 362us/step - loss: 0.0491 - accuracy: 0.9803 - val_loss: 0.0870 - val_accuracy: 0.9780\n",
      "Epoch 7/20\n",
      "11000/11000 [==============================] - 4s 375us/step - loss: 0.0441 - accuracy: 0.9833 - val_loss: 0.1110 - val_accuracy: 0.9770\n",
      "Epoch 8/20\n",
      "11000/11000 [==============================] - 4s 355us/step - loss: 0.0389 - accuracy: 0.9854 - val_loss: 0.1349 - val_accuracy: 0.9800\n",
      "Epoch 9/20\n",
      "11000/11000 [==============================] - 4s 362us/step - loss: 0.0333 - accuracy: 0.9872 - val_loss: 0.1547 - val_accuracy: 0.9760\n",
      "Epoch 10/20\n",
      "11000/11000 [==============================] - 4s 375us/step - loss: 0.0322 - accuracy: 0.9875 - val_loss: 0.1509 - val_accuracy: 0.9760\n",
      "Epoch 11/20\n",
      "11000/11000 [==============================] - 4s 384us/step - loss: 0.0228 - accuracy: 0.9907 - val_loss: 0.1940 - val_accuracy: 0.9720\n",
      "Epoch 12/20\n",
      "11000/11000 [==============================] - 4s 354us/step - loss: 0.0192 - accuracy: 0.9929 - val_loss: 0.1722 - val_accuracy: 0.9700\n",
      "Epoch 13/20\n",
      "11000/11000 [==============================] - 4s 370us/step - loss: 0.0167 - accuracy: 0.9931 - val_loss: 0.2201 - val_accuracy: 0.9780\n",
      "Epoch 14/20\n",
      "11000/11000 [==============================] - 4s 364us/step - loss: 0.0311 - accuracy: 0.9903 - val_loss: 0.2106 - val_accuracy: 0.9680\n",
      "Epoch 15/20\n",
      "11000/11000 [==============================] - 4s 355us/step - loss: 0.0148 - accuracy: 0.9942 - val_loss: 0.2546 - val_accuracy: 0.9790\n",
      "Epoch 16/20\n",
      "11000/11000 [==============================] - 4s 365us/step - loss: 0.0117 - accuracy: 0.9961 - val_loss: 0.2681 - val_accuracy: 0.9750\n",
      "Epoch 17/20\n",
      "11000/11000 [==============================] - 4s 373us/step - loss: 0.0170 - accuracy: 0.9935 - val_loss: 0.2355 - val_accuracy: 0.9750\n",
      "Epoch 18/20\n",
      "11000/11000 [==============================] - 4s 366us/step - loss: 0.0132 - accuracy: 0.9943 - val_loss: 0.2867 - val_accuracy: 0.9760\n",
      "Epoch 19/20\n",
      "11000/11000 [==============================] - 5s 423us/step - loss: 0.0131 - accuracy: 0.9955 - val_loss: 0.2111 - val_accuracy: 0.9800\n",
      "Epoch 20/20\n",
      "11000/11000 [==============================] - 4s 404us/step - loss: 0.0141 - accuracy: 0.9953 - val_loss: 0.2453 - val_accuracy: 0.9700\n"
     ]
    }
   ],
   "source": [
    "history = cnn_model.fit(x_train, \n",
    "          y_train, \n",
    "          epochs=20,\n",
    "          validation_data=(x_val, y_val))"
   ]
  },
  {
   "cell_type": "markdown",
   "metadata": {},
   "source": [
    "## Part 4. Let us crack the above CNN open\n",
    "\n",
    "**What does CNN learn?** \n",
    "\n",
    "Now we want to get an intuitive understanding of what hidden layers i.e., conv. layers and pooling layers in a CNN are learning from the data.\n",
    "\n",
    "Here, we are trying to find the answers from two persepctives. \n",
    "\n",
    "1. Visualize the learned filter weights.\n",
    "\n",
    "2. Visualize the hidden layers' outputs given input images"
   ]
  },
  {
   "cell_type": "markdown",
   "metadata": {},
   "source": [
    "### visualize the weights of the filters in the above CNN model. \n",
    "\n",
    "https://ai-pool.com/d/how-to-get-the-weights-of-keras-model-"
   ]
  },
  {
   "cell_type": "code",
   "execution_count": 32,
   "metadata": {},
   "outputs": [],
   "source": [
    "# function to visualize images or weights from vector or matrix in grey scale\n",
    "def plot_fig(figax, img, image_shape):\n",
    "    vmax = max(img.max(), -img.min())\n",
    "    figax.imshow(img.reshape(image_shape), cmap=plt.cm.gray,\n",
    "              vmin=-vmax, vmax=vmax)\n",
    "    return figax"
   ]
  },
  {
   "cell_type": "code",
   "execution_count": 33,
   "metadata": {},
   "outputs": [
    {
     "data": {
      "image/png": "[encoded data removed]",
      "text/plain": [
       "<Figure size 360x576 with 2 Axes>"
      ]
     },
     "metadata": {
      "needs_background": "light"
     },
     "output_type": "display_data"
    }
   ],
   "source": [
    "# let us visualize two of the input images\n",
    "fig, ax = plt.subplots(2, 1, figsize=(5, 8))\n",
    "boot_x = x_train[0,:,:]\n",
    "sneaker_x   = x_train[1,:,:]\n",
    "ax[0] = plot_fig(ax[0], boot_x, (28, 28))\n",
    "ax[1] = plot_fig(ax[1], sneaker_x, (28, 28))"
   ]
  },
  {
   "cell_type": "code",
   "execution_count": 34,
   "metadata": {},
   "outputs": [
    {
     "data": {
      "image/png": "[encoded data removed]",
      "text/plain": [
       "<Figure size 720x360 with 4 Axes>"
      ]
     },
     "metadata": {
      "needs_background": "light"
     },
     "output_type": "display_data"
    }
   ],
   "source": [
    "# we visualize the four filters we learned\n",
    "fig, ax = plt.subplots(1, 4, figsize=(10, 5))\n",
    "ax[0] = plot_fig(ax[0], cnn_model.layers[0].get_weights()[0][:, :, :, 0].flatten(), (3, 3))\n",
    "ax[1] = plot_fig(ax[1], cnn_model.layers[0].get_weights()[0][:, :, :, 1].flatten(), (3, 3))\n",
    "ax[2] = plot_fig(ax[2], cnn_model.layers[0].get_weights()[0][:, :, :, 2].flatten(), (3, 3))\n",
    "ax[3] = plot_fig(ax[3], cnn_model.layers[0].get_weights()[0][:, :, :, 3].flatten(), (3, 3))\n",
    "plt.show()"
   ]
  },
  {
   "cell_type": "markdown",
   "metadata": {},
   "source": [
    "### visualize the output of the convolutional layer and the pooling layer separately. "
   ]
  },
  {
   "cell_type": "markdown",
   "metadata": {},
   "source": [
    "https://keras.io/getting-started/faq/#how-can-i-obtain-the-output-of-an-intermediate-layer\n"
   ]
  },
  {
   "cell_type": "code",
   "execution_count": 47,
   "metadata": {},
   "outputs": [],
   "source": [
    "# using the backend.function in keras\n",
    "\n",
    "from keras import backend as K\n",
    "#@tf.function\n",
    "get_conv_layer_output = K.function([cnn_model.layers[0].input],\n",
    "                                  [cnn_model.layers[0].output])\n",
    "\n",
    "layer_output = get_conv_layer_output(np.expand_dims(boot_x, axis=0))"
   ]
  },
  {
   "cell_type": "code",
   "execution_count": 51,
   "metadata": {},
   "outputs": [
    {
     "data": {
      "text/plain": [
       "numpy.ndarray"
      ]
     },
     "execution_count": 51,
     "metadata": {},
     "output_type": "execute_result"
    }
   ],
   "source": [
    "type(np.expand_dims(boot_x, axis=0))"
   ]
  },
  {
   "cell_type": "code",
   "execution_count": 46,
   "metadata": {},
   "outputs": [
    {
     "data": {
      "text/plain": [
       "(1, 28, 28, 1)"
      ]
     },
     "execution_count": 46,
     "metadata": {},
     "output_type": "execute_result"
    }
   ],
   "source": [
    "np.expand_dims(boot_x, axis=0).shape\n"
   ]
  },
  {
   "cell_type": "code",
   "execution_count": 36,
   "metadata": {},
   "outputs": [
    {
     "name": "stdout",
     "output_type": "stream",
     "text": [
      "2.1.0\n"
     ]
    }
   ],
   "source": [
    "import tensorflow as tf\n",
    "print(tf.__version__ )"
   ]
  },
  {
   "cell_type": "code",
   "execution_count": 37,
   "metadata": {},
   "outputs": [
    {
     "data": {
      "image/png": "[encoded data removed]",
      "text/plain": [
       "<Figure size 720x360 with 4 Axes>"
      ]
     },
     "metadata": {
      "needs_background": "light"
     },
     "output_type": "display_data"
    }
   ],
   "source": [
    "# visualize a training image \"boot_x\" after it passes through the above four filters\n",
    "fig, ax = plt.subplots(1, 4, figsize=(10, 5))\n",
    "ax[0] = plot_fig(ax[0], layer_output[:, :, :, 0].flatten(), (26, 26))\n",
    "ax[1] = plot_fig(ax[1], layer_output[:, :, :, 1].flatten(), (26, 26))\n",
    "ax[2] = plot_fig(ax[2], layer_output[:, :, :, 2].flatten(), (26, 26))\n",
    "ax[3] = plot_fig(ax[3], layer_output[:, :, :, 3].flatten(), (26, 26))\n",
    "plt.show()"
   ]
  },
  {
   "cell_type": "code",
   "execution_count": 38,
   "metadata": {},
   "outputs": [],
   "source": [
    "layer_output = get_conv_layer_output(np.expand_dims(sneaker_x, axis=0))[0]"
   ]
  },
  {
   "cell_type": "code",
   "execution_count": 39,
   "metadata": {},
   "outputs": [
    {
     "data": {
      "image/png": "[encoded data removed]",
      "text/plain": [
       "<Figure size 720x360 with 4 Axes>"
      ]
     },
     "metadata": {
      "needs_background": "light"
     },
     "output_type": "display_data"
    }
   ],
   "source": [
    "# visualize a training image \"sneaker_x\" after it passes through the above four filters\n",
    "fig, ax = plt.subplots(1, 4, figsize=(10, 5))\n",
    "ax[0] = plot_fig(ax[0], layer_output[:, :, :, 0].flatten(), (26, 26))\n",
    "ax[1] = plot_fig(ax[1], layer_output[:, :, :, 1].flatten(), (26, 26))\n",
    "ax[2] = plot_fig(ax[2], layer_output[:, :, :, 2].flatten(), (26, 26))\n",
    "ax[3] = plot_fig(ax[3], layer_output[:, :, :, 3].flatten(), (26, 26))\n",
    "plt.show()"
   ]
  },
  {
   "cell_type": "code",
   "execution_count": null,
   "metadata": {},
   "outputs": [],
   "source": [
    "get_pool_layer_output = K.function([cnn_model.layers[0].input],\n",
    "                                  [cnn_model.layers[1].output])\n",
    "pool_output          = get_pool_layer_output(np.expand_dims(boot_x, axis=0))[0] "
   ]
  },
  {
   "cell_type": "code",
   "execution_count": null,
   "metadata": {},
   "outputs": [],
   "source": [
    "# visualize the training image \"boot_x\" after it passes through the above four filters + pooling layer\n",
    "fig, ax = plt.subplots(1, 4, figsize=(10, 5))\n",
    "ax[0] = plot_fig(ax[0], pool_output[:, :, :, 0].flatten(), (13, 13))\n",
    "ax[1] = plot_fig(ax[1], pool_output[:, :, :, 1].flatten(), (13, 13))\n",
    "ax[2] = plot_fig(ax[2], pool_output[:, :, :, 2].flatten(), (13, 13))\n",
    "ax[3] = plot_fig(ax[3], pool_output[:, :, :, 3].flatten(), (13, 13))\n",
    "plt.show()"
   ]
  },
  {
   "cell_type": "code",
   "execution_count": null,
   "metadata": {},
   "outputs": [],
   "source": [
    "pool_output          = get_pool_layer_output(np.expand_dims(sneaker_x, axis=0))[0] \n",
    "# visualize the training image \"sneaker_x\" after it passes through the above four filters + pooling layer\n",
    "fig, ax = plt.subplots(1, 4, figsize=(10, 5))\n",
    "ax[0] = plot_fig(ax[0], pool_output[:, :, :, 0].flatten(), (13, 13))\n",
    "ax[1] = plot_fig(ax[1], pool_output[:, :, :, 1].flatten(), (13, 13))\n",
    "ax[2] = plot_fig(ax[2], pool_output[:, :, :, 2].flatten(), (13, 13))\n",
    "ax[3] = plot_fig(ax[3], pool_output[:, :, :, 3].flatten(), (13, 13))\n",
    "plt.show()"
   ]
  },
  {
   "cell_type": "markdown",
   "metadata": {},
   "source": [
    "Through this notebook, we hope you can find the evidences that Conv-layer and pooling-layer in CNN are especailly suitable for feature extraction of image data."
   ]
  }
 ],
 "metadata": {
  "celltoolbar": "Raw Cell Format",
  "kernelspec": {
   "display_name": "Python 3",
   "language": "python",
   "name": "python3"
  },
  "language_info": {
   "codemirror_mode": {
    "name": "ipython",
    "version": 3
   },
   "file_extension": ".py",
   "mimetype": "text/x-python",
   "name": "python",
   "nbconvert_exporter": "python",
   "pygments_lexer": "ipython3",
   "version": "3.6.4"
  }
 },
 "nbformat": 4,
 "nbformat_minor": 1
}
