{
 "cells": [
  {
   "cell_type": "markdown",
   "metadata": {},
   "source": [
    "# 11 Word2Vec Implemented in Gensim\n",
    "\n",
    "## Learn word vectors from F.R.I.E.N.D.S.\n",
    "\n",
    "Originally developed as a collection of python scripts implementing latent semantic methods, Gensim has developed into an world-class NLP resource. Now, it is a leading and a state-of-the-art package for processing texts, working with word vector models (such as Word2Vec, FastText etc) and for building topic models.\n",
    "\n",
    "**Therefore, we do not need to implement word2vec from scratch.**\n",
    "\n",
    "\n",
    "## Agenda\n",
    "\n",
    "1. Prepare Corpus\n",
    "2. Text Cleaning\n",
    "3. Word2Vec Training\n",
    "4. Explore the learned word vectors"
   ]
  },
  {
   "cell_type": "code",
   "execution_count": 2,
   "metadata": {},
   "outputs": [],
   "source": [
    "import re  \n",
    "import pandas as pd \n",
    "from collections import defaultdict  # For word frequency\n",
    "import logging  # Setting up the loggings to monitor gensim\n",
    "logging.basicConfig(format=\"%(levelname)s - %(asctime)s: %(message)s\", datefmt= '%H:%M:%S', level=logging.INFO)"
   ]
  },
  {
   "cell_type": "markdown",
   "metadata": {},
   "source": [
    "### Part 1: Prepare Corpus"
   ]
  },
  {
   "cell_type": "markdown",
   "metadata": {},
   "source": [
    "**Corpus**:\n",
    "\n",
    "Here, we will look at the transcripts from F.R.I.E.N.D.S. It is because I love watching Friends and also the data is already prepared by someone (credit: [Shilpi Bhattacharyya](https://towardsdatascience.com/now-we-have-tv-sitcom-f-r-i-e-n-d-s-dataset-created-from-web-transcripts-908af7777977)\n",
    ").\n",
    "\n",
    "<img src=\"imgs\\friends.jpg\" alt=\"cbow\"\n",
    "\ttitle=\"cbow pic\" width=\"300\" height=\"250\" />\n",
    "    \n",
    "\n",
    "This dataset contains the speaker, location, scene, season number and text i.e. script lines covering the 10 seasons. Here, we keep only one column: **Text**.\n"
   ]
  },
  {
   "cell_type": "code",
   "execution_count": 4,
   "metadata": {},
   "outputs": [
    {
     "data": {
      "text/plain": [
       "(93335, 6)"
      ]
     },
     "execution_count": 4,
     "metadata": {},
     "output_type": "execute_result"
    }
   ],
   "source": [
    "df = pd.read_csv('data//friends_dataset.csv', index_col=None)\n",
    "df.shape"
   ]
  },
  {
   "cell_type": "code",
   "execution_count": 3,
   "metadata": {},
   "outputs": [
    {
     "data": {
      "text/html": [
       "<div>\n",
       "<style scoped>\n",
       "    .dataframe tbody tr th:only-of-type {\n",
       "        vertical-align: middle;\n",
       "    }\n",
       "\n",
       "    .dataframe tbody tr th {\n",
       "        vertical-align: top;\n",
       "    }\n",
       "\n",
       "    .dataframe thead th {\n",
       "        text-align: right;\n",
       "    }\n",
       "</style>\n",
       "<table border=\"1\" class=\"dataframe\">\n",
       "  <thead>\n",
       "    <tr style=\"text-align: right;\">\n",
       "      <th></th>\n",
       "      <th>Unnamed: 0</th>\n",
       "      <th>Location</th>\n",
       "      <th>Scene</th>\n",
       "      <th>Season</th>\n",
       "      <th>Speaker</th>\n",
       "      <th>Text</th>\n",
       "    </tr>\n",
       "  </thead>\n",
       "  <tbody>\n",
       "    <tr>\n",
       "      <td>0</td>\n",
       "      <td>0</td>\n",
       "      <td>Chandler and Joey's</td>\n",
       "      <td>Joey is repacking the furniture into boxes to...</td>\n",
       "      <td>4</td>\n",
       "      <td>Joey</td>\n",
       "      <td>What?</td>\n",
       "    </tr>\n",
       "    <tr>\n",
       "      <td>1</td>\n",
       "      <td>1</td>\n",
       "      <td>Monica and Rachel's</td>\n",
       "      <td>the next morning, Monica is getting the door,</td>\n",
       "      <td>1</td>\n",
       "      <td>Monica</td>\n",
       "      <td>Oh, you got the whole night, huh?</td>\n",
       "    </tr>\n",
       "    <tr>\n",
       "      <td>2</td>\n",
       "      <td>2</td>\n",
       "      <td>Mike's apartment</td>\n",
       "      <td>His phone rings and he picks up</td>\n",
       "      <td>9</td>\n",
       "      <td>Chandler</td>\n",
       "      <td>Phoebe is going to say \"yes\"? That's, that's g...</td>\n",
       "    </tr>\n",
       "  </tbody>\n",
       "</table>\n",
       "</div>"
      ],
      "text/plain": [
       "   Unnamed: 0              Location  \\\n",
       "0           0   Chandler and Joey's   \n",
       "1           1   Monica and Rachel's   \n",
       "2           2      Mike's apartment   \n",
       "\n",
       "                                               Scene  Season   Speaker  \\\n",
       "0   Joey is repacking the furniture into boxes to...       4      Joey   \n",
       "1      the next morning, Monica is getting the door,       1    Monica   \n",
       "2                    His phone rings and he picks up       9  Chandler   \n",
       "\n",
       "                                                Text  \n",
       "0                                              What?  \n",
       "1                  Oh, you got the whole night, huh?  \n",
       "2  Phoebe is going to say \"yes\"? That's, that's g...  "
      ]
     },
     "execution_count": 3,
     "metadata": {},
     "output_type": "execute_result"
    }
   ],
   "source": [
    "df.head(3)"
   ]
  },
  {
   "cell_type": "code",
   "execution_count": 4,
   "metadata": {},
   "outputs": [],
   "source": [
    "df = df[['Text']]"
   ]
  },
  {
   "cell_type": "markdown",
   "metadata": {},
   "source": [
    "### Part 2: Text Clean\n",
    "\n",
    "For each line of dialogue, we will remove stop-words, non-alphbetic characters and conver all of them to lower-case.\n",
    "\n",
    "#### Regarding Stop words:\n",
    "https://kavita-ganesan.com/what-are-stop-words/#.XlZv5pMzbYU\n",
    "\n",
    "https://www.quora.com/Is-it-compulsory-to-remove-stop-words-with-word2vec"
   ]
  },
  {
   "cell_type": "code",
   "execution_count": 5,
   "metadata": {},
   "outputs": [],
   "source": [
    "brief_cleaning = lambda x: re.sub(\"[^A-Za-z']+\", ' ', str(x)).lower()"
   ]
  },
  {
   "cell_type": "code",
   "execution_count": 6,
   "metadata": {},
   "outputs": [],
   "source": [
    "df[\"clean\"] = df.Text.apply(brief_cleaning)"
   ]
  },
  {
   "cell_type": "code",
   "execution_count": 7,
   "metadata": {},
   "outputs": [],
   "source": [
    "from nltk.corpus import stopwords \n",
    "stop_words = set(stopwords.words('english')) "
   ]
  },
  {
   "cell_type": "code",
   "execution_count": 8,
   "metadata": {},
   "outputs": [],
   "source": [
    "def cleaning(doc):\n",
    "    # very simple tokenizer\n",
    "    txt =doc.strip().split()\n",
    "    txt = [word for word in txt if word not in stop_words]\n",
    "    # remove the short sentence, since the context information is not enough\n",
    "    if len(txt) > 2:\n",
    "        return ' '.join(txt)"
   ]
  },
  {
   "cell_type": "markdown",
   "metadata": {},
   "source": [
    "remove the short line"
   ]
  },
  {
   "cell_type": "code",
   "execution_count": 9,
   "metadata": {},
   "outputs": [],
   "source": [
    "txt = [cleaning(doc) for doc in df.clean.values]"
   ]
  },
  {
   "cell_type": "code",
   "execution_count": 10,
   "metadata": {},
   "outputs": [
    {
     "data": {
      "text/plain": [
       "(27047, 1)"
      ]
     },
     "execution_count": 10,
     "metadata": {},
     "output_type": "execute_result"
    }
   ],
   "source": [
    "df_clean = pd.DataFrame({'clean': txt})\n",
    "df_clean = df_clean.dropna().drop_duplicates()\n",
    "df_clean.shape"
   ]
  },
  {
   "cell_type": "code",
   "execution_count": 11,
   "metadata": {},
   "outputs": [
    {
     "data": {
      "text/html": [
       "<div>\n",
       "<style scoped>\n",
       "    .dataframe tbody tr th:only-of-type {\n",
       "        vertical-align: middle;\n",
       "    }\n",
       "\n",
       "    .dataframe tbody tr th {\n",
       "        vertical-align: top;\n",
       "    }\n",
       "\n",
       "    .dataframe thead th {\n",
       "        text-align: right;\n",
       "    }\n",
       "</style>\n",
       "<table border=\"1\" class=\"dataframe\">\n",
       "  <thead>\n",
       "    <tr style=\"text-align: right;\">\n",
       "      <th></th>\n",
       "      <th>clean</th>\n",
       "    </tr>\n",
       "  </thead>\n",
       "  <tbody>\n",
       "    <tr>\n",
       "      <td>1</td>\n",
       "      <td>oh got whole night huh</td>\n",
       "    </tr>\n",
       "    <tr>\n",
       "      <td>2</td>\n",
       "      <td>phoebe going say yes that's that's great</td>\n",
       "    </tr>\n",
       "    <tr>\n",
       "      <td>5</td>\n",
       "      <td>look like something girlfriend paleontologist ...</td>\n",
       "    </tr>\n",
       "    <tr>\n",
       "      <td>9</td>\n",
       "      <td>rachel joey rachel joey</td>\n",
       "    </tr>\n",
       "    <tr>\n",
       "      <td>11</td>\n",
       "      <td>ring cave yeah</td>\n",
       "    </tr>\n",
       "  </tbody>\n",
       "</table>\n",
       "</div>"
      ],
      "text/plain": [
       "                                                clean\n",
       "1                              oh got whole night huh\n",
       "2            phoebe going say yes that's that's great\n",
       "5   look like something girlfriend paleontologist ...\n",
       "9                             rachel joey rachel joey\n",
       "11                                     ring cave yeah"
      ]
     },
     "execution_count": 11,
     "metadata": {},
     "output_type": "execute_result"
    }
   ],
   "source": [
    "df_clean.head(5)"
   ]
  },
  {
   "cell_type": "markdown",
   "metadata": {},
   "source": [
    "#### Build Bigrams:\n",
    "We are using Gensim Phrases package to automatically detect common phrases (bigrams) from a list of sentences. https://radimrehurek.com/gensim/models/phrases.html\n",
    "\n",
    "The main reason we do this is to catch words like \"rachel_green\" or \"break_up\" ! We will regard those detected phrase as a single word, which will improve the quality of the learned embeddings. "
   ]
  },
  {
   "cell_type": "code",
   "execution_count": 12,
   "metadata": {},
   "outputs": [],
   "source": [
    "from gensim.models.phrases import Phrases, Phraser"
   ]
  },
  {
   "cell_type": "code",
   "execution_count": 13,
   "metadata": {},
   "outputs": [],
   "source": [
    "# take a list of list of words as input\n",
    "sent = [row.split() for row in df_clean['clean']]"
   ]
  },
  {
   "cell_type": "code",
   "execution_count": 14,
   "metadata": {
    "scrolled": false
   },
   "outputs": [
    {
     "name": "stderr",
     "output_type": "stream",
     "text": [
      "INFO - 22:18:34: collecting all words and their counts\n",
      "INFO - 22:18:34: PROGRESS: at sentence #0, processed 0 words and 0 word types\n",
      "INFO - 22:18:34: PROGRESS: at sentence #10000, processed 70067 words and 50342 word types\n",
      "INFO - 22:18:34: PROGRESS: at sentence #20000, processed 141347 words and 88437 word types\n",
      "INFO - 22:18:34: collected 111960 word types from a corpus of 191459 words (unigram + bigrams) and 27047 sentences\n",
      "INFO - 22:18:34: using 111960 counts as vocab in Phrases<0 vocab, min_count=10, threshold=10.0, max_vocab_size=40000000>\n"
     ]
    }
   ],
   "source": [
    "phrases = Phrases(sent, min_count=10, progress_per=10000)"
   ]
  },
  {
   "cell_type": "code",
   "execution_count": 15,
   "metadata": {},
   "outputs": [
    {
     "name": "stderr",
     "output_type": "stream",
     "text": [
      "INFO - 22:18:35: source_vocab length 111960\n",
      "INFO - 22:18:36: Phraser built with 137 phrasegrams\n"
     ]
    }
   ],
   "source": [
    "bigram = Phraser(phrases)"
   ]
  },
  {
   "cell_type": "code",
   "execution_count": 16,
   "metadata": {
    "scrolled": true
   },
   "outputs": [],
   "source": [
    "sentences = bigram[sent]"
   ]
  },
  {
   "cell_type": "code",
   "execution_count": 17,
   "metadata": {},
   "outputs": [
    {
     "name": "stdout",
     "output_type": "stream",
     "text": [
      "before bigram extracting\n",
      "['yeah', \"i'm\", 'phoebe', 'buffay', 'hannigan', 'banana', 'hammock']\n",
      "after bigram extracting\n",
      "['yeah', \"i'm\", 'phoebe_buffay', 'hannigan', 'banana', 'hammock']\n"
     ]
    }
   ],
   "source": [
    "# check the extracted bigram. Take phoebe_buffay as an example\n",
    "for idx in range(len(sentences)):\n",
    "    if \"phoebe_buffay\" in sentences[idx]:\n",
    "        print(\"before bigram extracting\")\n",
    "        print(sent[idx])\n",
    "        print(\"after bigram extracting\")\n",
    "        print(sentences[idx])\n",
    "        break"
   ]
  },
  {
   "cell_type": "markdown",
   "metadata": {},
   "source": [
    "#### Most Frequent Words\n",
    "check the effectivenss of the above text preprocessing"
   ]
  },
  {
   "cell_type": "code",
   "execution_count": 18,
   "metadata": {},
   "outputs": [
    {
     "data": {
      "text/plain": [
       "12086"
      ]
     },
     "execution_count": 18,
     "metadata": {},
     "output_type": "execute_result"
    }
   ],
   "source": [
    "word_freq = defaultdict(int)\n",
    "for sent in sentences:\n",
    "    for i in sent:\n",
    "        word_freq[i] += 1\n",
    "len(word_freq)"
   ]
  },
  {
   "cell_type": "code",
   "execution_count": 19,
   "metadata": {},
   "outputs": [
    {
     "data": {
      "text/plain": [
       "['oh', 'know', 'okay', 'well', 'yeah', 'right', 'like', 'gonna', 'hey', 'get']"
      ]
     },
     "execution_count": 19,
     "metadata": {},
     "output_type": "execute_result"
    }
   ],
   "source": [
    "sorted(word_freq, key=word_freq.get, reverse=True)[:10]"
   ]
  },
  {
   "cell_type": "markdown",
   "metadata": {},
   "source": [
    "### Part 3: Word2Vec Training"
   ]
  },
  {
   "cell_type": "markdown",
   "metadata": {},
   "source": [
    "We use Gensim implementation of word2vec: https://radimrehurek.com/gensim/models/word2vec.html\n",
    "\n",
    "Word2vec's training in gensim can be generally decomposed into three steps: \n",
    "\n",
    "1. Word2Vec():\n",
    "\n",
    ">In this first step, I set up the hyper-parameters of the model one-by-one. The corpus will not be provided at this step.\n",
    "\n",
    "\n",
    "2. .build_vocab():\n",
    "\n",
    ">Here it builds the vocabulary from a sequence of sentences and thus initialized the model.\n",
    "With the loggings, the effect of the pre-defined hyper-parameters in step 1 such as min_count and sample on the word corpus can be monitored. The whole process will be displayed here for a double-check of these hyperparmaters' influence.\n",
    "\n",
    "\n",
    "3. .train():\n",
    "\n",
    ">Finally, the model is trained and word vectors are updated. The loggings here are mainly useful for monitoring, making sure that no threads are executed instantaneously."
   ]
  },
  {
   "cell_type": "code",
   "execution_count": 20,
   "metadata": {},
   "outputs": [],
   "source": [
    "# gensim support multi-core training\n",
    "import multiprocessing\n",
    "cores = multiprocessing.cpu_count()"
   ]
  },
  {
   "cell_type": "code",
   "execution_count": 21,
   "metadata": {},
   "outputs": [],
   "source": [
    "from gensim.models import Word2Vec"
   ]
  },
  {
   "cell_type": "markdown",
   "metadata": {},
   "source": [
    "#### Doc for hyperpameters in word2vec:\n",
    "\n",
    "* min_count = int - Ignores all words with total absolute frequency lower than this - (2, 100)\n",
    "\n",
    "* window = int - The maximum distance between the current and predicted word within a sentence. E.g. window words on the left and window words on the left of our target - (2, 10)\n",
    "\n",
    "* size = int - Dimensionality of the feature vectors. - (50, 300)\n",
    "\n",
    "* sample = float - The threshold for configuring which higher-frequency words are randomly downsampled. Highly influencial. - (0, 1e-5)\n",
    "\n",
    "* alpha = float - The initial learning rate - (0.01, 0.05)\n",
    "\n",
    "* min_alpha = float - Learning rate will linearly drop to min_alpha as training progresses. To set it: alpha - (min_alpha * epochs) ~ 0.00\n",
    "\n",
    "* negative = int - If > 0, negative sampling will be used, the int for negative specifies how many \"noise words\" should be drown. If set to 0, no negative sampling is used. - (5, 20). Here, in slides, we mentioned that to overcome the heavy softmax layer computation issue, negative sampling is one of the two approaches.\n",
    "\n",
    "* workers = int - Use these many worker threads to train the model (=faster training with multicore machines)"
   ]
  },
  {
   "cell_type": "code",
   "execution_count": 45,
   "metadata": {},
   "outputs": [
    {
     "name": "stderr",
     "output_type": "stream",
     "text": [
      "WARNING - 22:21:44: consider setting layer size to a multiple of 4 for greater performance\n"
     ]
    }
   ],
   "source": [
    "w2v_model = Word2Vec(min_count=10,\n",
    "                     window=3,\n",
    "                     size=55,\n",
    "                     sample=6e-5, \n",
    "                     alpha=0.05, \n",
    "                     min_alpha=0.0007, \n",
    "                     negative=20,\n",
    "                     workers=cores-1)"
   ]
  },
  {
   "cell_type": "markdown",
   "metadata": {},
   "source": [
    "#### Building the Vocabulary:\n",
    "\n",
    "Word2Vec requires us to build the vocabulary table (simply digesting all the words and filtering out the unique words, and doing some basic counts on them) based on the hyperparameters set in the previous step."
   ]
  },
  {
   "cell_type": "code",
   "execution_count": 46,
   "metadata": {},
   "outputs": [
    {
     "name": "stderr",
     "output_type": "stream",
     "text": [
      "INFO - 22:21:46: collecting all words and their counts\n",
      "INFO - 22:21:46: PROGRESS: at sentence #0, processed 0 words, keeping 0 word types\n",
      "INFO - 22:21:46: PROGRESS: at sentence #10000, processed 68223 words, keeping 7423 word types\n",
      "INFO - 22:21:47: PROGRESS: at sentence #20000, processed 137813 words, keeping 10533 word types\n",
      "INFO - 22:21:47: collected 12086 word types from a corpus of 186679 raw words and 27047 sentences\n",
      "INFO - 22:21:47: Loading a fresh vocabulary\n",
      "INFO - 22:21:47: effective_min_count=10 retains 1990 unique words (16% of original 12086, drops 10096)\n",
      "INFO - 22:21:47: effective_min_count=10 leaves 163795 word corpus (87% of original 186679, drops 22884)\n",
      "INFO - 22:21:47: deleting the raw counts dictionary of 12086 items\n",
      "INFO - 22:21:47: sample=6e-05 downsamples 959 most-common words\n",
      "INFO - 22:21:47: downsampling leaves estimated 55919 word corpus (34.1% of prior 163795)\n",
      "INFO - 22:21:47: estimated required memory for 1990 words and 55 dimensions: 1870600 bytes\n",
      "INFO - 22:21:47: resetting layer weights\n"
     ]
    }
   ],
   "source": [
    "w2v_model.build_vocab(sentences, progress_per=10000)"
   ]
  },
  {
   "cell_type": "markdown",
   "metadata": {},
   "source": [
    "#### Training of the model:\n",
    "\n",
    "Doc for hyperparameters:\n",
    "\n",
    "* total_examples = int - Count of sentences;\n",
    "\n",
    "* epochs = int - Number of iterations (epochs) over the corpus - [10, 20, 30]"
   ]
  },
  {
   "cell_type": "code",
   "execution_count": 47,
   "metadata": {
    "scrolled": false
   },
   "outputs": [
    {
     "name": "stderr",
     "output_type": "stream",
     "text": [
      "INFO - 22:21:53: training model with 3 workers on 1990 vocabulary and 55 features, using sg=0 hs=0 sample=6e-05 negative=20 window=3\n",
      "INFO - 22:21:54: EPOCH 1 - PROGRESS: at 80.43% examples, 43411 words/s, in_qsize 0, out_qsize 0\n",
      "INFO - 22:21:55: worker thread finished; awaiting finish of 2 more threads\n",
      "INFO - 22:21:55: worker thread finished; awaiting finish of 1 more threads\n",
      "INFO - 22:21:55: worker thread finished; awaiting finish of 0 more threads\n",
      "INFO - 22:21:55: EPOCH - 1 : training on 186679 raw words (55957 effective words) took 1.4s, 38667 effective words/s\n",
      "INFO - 22:21:56: EPOCH 2 - PROGRESS: at 64.42% examples, 35835 words/s, in_qsize 0, out_qsize 0\n",
      "INFO - 22:21:57: worker thread finished; awaiting finish of 2 more threads\n",
      "INFO - 22:21:57: worker thread finished; awaiting finish of 1 more threads\n",
      "INFO - 22:21:57: worker thread finished; awaiting finish of 0 more threads\n",
      "INFO - 22:21:57: EPOCH - 2 : training on 186679 raw words (55977 effective words) took 2.0s, 28374 effective words/s\n",
      "INFO - 22:21:58: EPOCH 3 - PROGRESS: at 37.84% examples, 20258 words/s, in_qsize 0, out_qsize 0\n",
      "INFO - 22:21:59: EPOCH 3 - PROGRESS: at 64.42% examples, 17096 words/s, in_qsize 0, out_qsize 0\n",
      "INFO - 22:21:59: worker thread finished; awaiting finish of 2 more threads\n",
      "INFO - 22:21:59: worker thread finished; awaiting finish of 1 more threads\n",
      "INFO - 22:21:59: worker thread finished; awaiting finish of 0 more threads\n",
      "INFO - 22:21:59: EPOCH - 3 : training on 186679 raw words (55729 effective words) took 2.7s, 21020 effective words/s\n",
      "INFO - 22:22:00: EPOCH 4 - PROGRESS: at 80.43% examples, 42223 words/s, in_qsize 0, out_qsize 0\n",
      "INFO - 22:22:01: worker thread finished; awaiting finish of 2 more threads\n",
      "INFO - 22:22:01: worker thread finished; awaiting finish of 1 more threads\n",
      "INFO - 22:22:01: worker thread finished; awaiting finish of 0 more threads\n",
      "INFO - 22:22:01: EPOCH - 4 : training on 186679 raw words (56016 effective words) took 1.5s, 36818 effective words/s\n",
      "INFO - 22:22:02: EPOCH 5 - PROGRESS: at 85.83% examples, 47458 words/s, in_qsize 0, out_qsize 0\n",
      "INFO - 22:22:02: worker thread finished; awaiting finish of 2 more threads\n",
      "INFO - 22:22:02: worker thread finished; awaiting finish of 1 more threads\n",
      "INFO - 22:22:02: worker thread finished; awaiting finish of 0 more threads\n",
      "INFO - 22:22:02: EPOCH - 5 : training on 186679 raw words (56189 effective words) took 1.2s, 46606 effective words/s\n",
      "INFO - 22:22:03: EPOCH 6 - PROGRESS: at 80.43% examples, 40612 words/s, in_qsize 0, out_qsize 0\n",
      "INFO - 22:22:03: worker thread finished; awaiting finish of 2 more threads\n",
      "INFO - 22:22:03: worker thread finished; awaiting finish of 1 more threads\n",
      "INFO - 22:22:04: worker thread finished; awaiting finish of 0 more threads\n",
      "INFO - 22:22:04: EPOCH - 6 : training on 186679 raw words (55960 effective words) took 1.5s, 37859 effective words/s\n",
      "INFO - 22:22:05: EPOCH 7 - PROGRESS: at 80.43% examples, 42218 words/s, in_qsize 0, out_qsize 0\n",
      "INFO - 22:22:05: worker thread finished; awaiting finish of 2 more threads\n",
      "INFO - 22:22:05: worker thread finished; awaiting finish of 1 more threads\n",
      "INFO - 22:22:05: worker thread finished; awaiting finish of 0 more threads\n",
      "INFO - 22:22:05: EPOCH - 7 : training on 186679 raw words (55974 effective words) took 1.3s, 41786 effective words/s\n",
      "INFO - 22:22:06: EPOCH 8 - PROGRESS: at 48.34% examples, 23231 words/s, in_qsize 0, out_qsize 0\n",
      "INFO - 22:22:07: worker thread finished; awaiting finish of 2 more threads\n",
      "INFO - 22:22:07: worker thread finished; awaiting finish of 1 more threads\n",
      "INFO - 22:22:07: EPOCH 8 - PROGRESS: at 100.00% examples, 25841 words/s, in_qsize 0, out_qsize 1\n",
      "INFO - 22:22:07: worker thread finished; awaiting finish of 0 more threads\n",
      "INFO - 22:22:07: EPOCH - 8 : training on 186679 raw words (55952 effective words) took 2.2s, 25742 effective words/s\n",
      "INFO - 22:22:08: EPOCH 9 - PROGRESS: at 69.80% examples, 34586 words/s, in_qsize 0, out_qsize 0\n",
      "INFO - 22:22:09: worker thread finished; awaiting finish of 2 more threads\n",
      "INFO - 22:22:09: worker thread finished; awaiting finish of 1 more threads\n",
      "INFO - 22:22:09: worker thread finished; awaiting finish of 0 more threads\n",
      "INFO - 22:22:09: EPOCH - 9 : training on 186679 raw words (55851 effective words) took 1.9s, 29462 effective words/s\n",
      "INFO - 22:22:10: EPOCH 10 - PROGRESS: at 32.36% examples, 17072 words/s, in_qsize 0, out_qsize 0\n",
      "INFO - 22:22:11: EPOCH 10 - PROGRESS: at 80.43% examples, 21075 words/s, in_qsize 0, out_qsize 0\n",
      "INFO - 22:22:11: worker thread finished; awaiting finish of 2 more threads\n",
      "INFO - 22:22:11: worker thread finished; awaiting finish of 1 more threads\n",
      "INFO - 22:22:11: worker thread finished; awaiting finish of 0 more threads\n",
      "INFO - 22:22:11: EPOCH - 10 : training on 186679 raw words (55850 effective words) took 2.4s, 23124 effective words/s\n",
      "INFO - 22:22:13: EPOCH 11 - PROGRESS: at 53.69% examples, 24486 words/s, in_qsize 0, out_qsize 0\n",
      "INFO - 22:22:14: EPOCH 11 - PROGRESS: at 91.08% examples, 22324 words/s, in_qsize 0, out_qsize 0\n",
      "INFO - 22:22:14: worker thread finished; awaiting finish of 2 more threads\n",
      "INFO - 22:22:14: worker thread finished; awaiting finish of 1 more threads\n",
      "INFO - 22:22:14: worker thread finished; awaiting finish of 0 more threads\n",
      "INFO - 22:22:14: EPOCH - 11 : training on 186679 raw words (55776 effective words) took 2.5s, 22594 effective words/s\n",
      "INFO - 22:22:15: EPOCH 12 - PROGRESS: at 64.42% examples, 33891 words/s, in_qsize 0, out_qsize 0\n",
      "INFO - 22:22:16: worker thread finished; awaiting finish of 2 more threads\n",
      "INFO - 22:22:16: worker thread finished; awaiting finish of 1 more threads\n",
      "INFO - 22:22:16: worker thread finished; awaiting finish of 0 more threads\n",
      "INFO - 22:22:16: EPOCH - 12 : training on 186679 raw words (56016 effective words) took 1.7s, 32410 effective words/s\n",
      "INFO - 22:22:17: EPOCH 13 - PROGRESS: at 43.02% examples, 22775 words/s, in_qsize 0, out_qsize 0\n",
      "INFO - 22:22:18: worker thread finished; awaiting finish of 2 more threads\n",
      "INFO - 22:22:18: worker thread finished; awaiting finish of 1 more threads\n",
      "INFO - 22:22:18: worker thread finished; awaiting finish of 0 more threads\n",
      "INFO - 22:22:18: EPOCH - 13 : training on 186679 raw words (55728 effective words) took 2.0s, 28095 effective words/s\n",
      "INFO - 22:22:19: EPOCH 14 - PROGRESS: at 53.69% examples, 29534 words/s, in_qsize 0, out_qsize 0\n",
      "INFO - 22:22:19: worker thread finished; awaiting finish of 2 more threads\n",
      "INFO - 22:22:19: worker thread finished; awaiting finish of 1 more threads\n",
      "INFO - 22:22:19: worker thread finished; awaiting finish of 0 more threads\n",
      "INFO - 22:22:19: EPOCH - 14 : training on 186679 raw words (55858 effective words) took 1.7s, 32513 effective words/s\n",
      "INFO - 22:22:21: EPOCH 15 - PROGRESS: at 48.34% examples, 26575 words/s, in_qsize 0, out_qsize 0\n",
      "INFO - 22:22:22: EPOCH 15 - PROGRESS: at 96.35% examples, 26219 words/s, in_qsize 0, out_qsize 0\n",
      "INFO - 22:22:22: worker thread finished; awaiting finish of 2 more threads\n",
      "INFO - 22:22:22: worker thread finished; awaiting finish of 1 more threads\n",
      "INFO - 22:22:22: worker thread finished; awaiting finish of 0 more threads\n",
      "INFO - 22:22:22: EPOCH - 15 : training on 186679 raw words (55629 effective words) took 2.1s, 26754 effective words/s\n",
      "INFO - 22:22:23: EPOCH 16 - PROGRESS: at 69.80% examples, 36967 words/s, in_qsize 0, out_qsize 0\n",
      "INFO - 22:22:23: worker thread finished; awaiting finish of 2 more threads\n",
      "INFO - 22:22:23: worker thread finished; awaiting finish of 1 more threads\n",
      "INFO - 22:22:23: worker thread finished; awaiting finish of 0 more threads\n",
      "INFO - 22:22:23: EPOCH - 16 : training on 186679 raw words (55942 effective words) took 1.6s, 33958 effective words/s\n",
      "INFO - 22:22:24: EPOCH 17 - PROGRESS: at 64.42% examples, 35020 words/s, in_qsize 0, out_qsize 0\n",
      "INFO - 22:22:25: worker thread finished; awaiting finish of 2 more threads\n",
      "INFO - 22:22:25: worker thread finished; awaiting finish of 1 more threads\n",
      "INFO - 22:22:25: worker thread finished; awaiting finish of 0 more threads\n",
      "INFO - 22:22:25: EPOCH - 17 : training on 186679 raw words (56007 effective words) took 1.6s, 35201 effective words/s\n",
      "INFO - 22:22:26: EPOCH 18 - PROGRESS: at 59.03% examples, 31321 words/s, in_qsize 0, out_qsize 0\n",
      "INFO - 22:22:27: worker thread finished; awaiting finish of 2 more threads\n"
     ]
    },
    {
     "name": "stderr",
     "output_type": "stream",
     "text": [
      "INFO - 22:22:27: worker thread finished; awaiting finish of 1 more threads\n",
      "INFO - 22:22:27: worker thread finished; awaiting finish of 0 more threads\n",
      "INFO - 22:22:27: EPOCH - 18 : training on 186679 raw words (55954 effective words) took 2.0s, 27319 effective words/s\n",
      "INFO - 22:22:28: EPOCH 19 - PROGRESS: at 37.84% examples, 20995 words/s, in_qsize 0, out_qsize 0\n",
      "INFO - 22:22:29: EPOCH 19 - PROGRESS: at 96.35% examples, 26066 words/s, in_qsize 0, out_qsize 0\n",
      "INFO - 22:22:29: worker thread finished; awaiting finish of 2 more threads\n",
      "INFO - 22:22:29: worker thread finished; awaiting finish of 1 more threads\n",
      "INFO - 22:22:29: worker thread finished; awaiting finish of 0 more threads\n",
      "INFO - 22:22:29: EPOCH - 19 : training on 186679 raw words (55793 effective words) took 2.1s, 25977 effective words/s\n",
      "INFO - 22:22:30: EPOCH 20 - PROGRESS: at 53.69% examples, 27989 words/s, in_qsize 0, out_qsize 0\n",
      "INFO - 22:22:31: EPOCH 20 - PROGRESS: at 96.35% examples, 25376 words/s, in_qsize 4, out_qsize 0\n",
      "INFO - 22:22:31: worker thread finished; awaiting finish of 2 more threads\n",
      "INFO - 22:22:31: worker thread finished; awaiting finish of 1 more threads\n",
      "INFO - 22:22:31: worker thread finished; awaiting finish of 0 more threads\n",
      "INFO - 22:22:31: EPOCH - 20 : training on 186679 raw words (56031 effective words) took 2.2s, 26038 effective words/s\n",
      "INFO - 22:22:32: EPOCH 21 - PROGRESS: at 43.02% examples, 23816 words/s, in_qsize 0, out_qsize 0\n",
      "INFO - 22:22:33: EPOCH 21 - PROGRESS: at 96.35% examples, 25079 words/s, in_qsize 0, out_qsize 0\n",
      "INFO - 22:22:33: worker thread finished; awaiting finish of 2 more threads\n",
      "INFO - 22:22:33: worker thread finished; awaiting finish of 1 more threads\n",
      "INFO - 22:22:33: worker thread finished; awaiting finish of 0 more threads\n",
      "INFO - 22:22:34: EPOCH - 21 : training on 186679 raw words (55924 effective words) took 2.2s, 25367 effective words/s\n",
      "INFO - 22:22:35: EPOCH 22 - PROGRESS: at 80.43% examples, 44255 words/s, in_qsize 0, out_qsize 0\n",
      "INFO - 22:22:35: worker thread finished; awaiting finish of 2 more threads\n",
      "INFO - 22:22:35: worker thread finished; awaiting finish of 1 more threads\n",
      "INFO - 22:22:35: worker thread finished; awaiting finish of 0 more threads\n",
      "INFO - 22:22:35: EPOCH - 22 : training on 186679 raw words (56019 effective words) took 1.4s, 39870 effective words/s\n",
      "INFO - 22:22:36: EPOCH 23 - PROGRESS: at 48.34% examples, 25006 words/s, in_qsize 0, out_qsize 0\n",
      "INFO - 22:22:37: EPOCH 23 - PROGRESS: at 80.43% examples, 19367 words/s, in_qsize 0, out_qsize 0\n",
      "INFO - 22:22:38: worker thread finished; awaiting finish of 2 more threads\n",
      "INFO - 22:22:38: worker thread finished; awaiting finish of 1 more threads\n",
      "INFO - 22:22:38: worker thread finished; awaiting finish of 0 more threads\n",
      "INFO - 22:22:38: EPOCH - 23 : training on 186679 raw words (55996 effective words) took 2.9s, 19628 effective words/s\n",
      "INFO - 22:22:39: EPOCH 24 - PROGRESS: at 32.36% examples, 17612 words/s, in_qsize 0, out_qsize 0\n",
      "INFO - 22:22:40: EPOCH 24 - PROGRESS: at 80.43% examples, 21250 words/s, in_qsize 0, out_qsize 0\n",
      "INFO - 22:22:40: worker thread finished; awaiting finish of 2 more threads\n",
      "INFO - 22:22:40: worker thread finished; awaiting finish of 1 more threads\n",
      "INFO - 22:22:40: worker thread finished; awaiting finish of 0 more threads\n",
      "INFO - 22:22:40: EPOCH - 24 : training on 186679 raw words (55943 effective words) took 2.4s, 23179 effective words/s\n",
      "INFO - 22:22:41: EPOCH 25 - PROGRESS: at 48.34% examples, 25566 words/s, in_qsize 0, out_qsize 0\n",
      "INFO - 22:22:42: worker thread finished; awaiting finish of 2 more threads\n",
      "INFO - 22:22:42: worker thread finished; awaiting finish of 1 more threads\n",
      "INFO - 22:22:42: worker thread finished; awaiting finish of 0 more threads\n",
      "INFO - 22:22:42: EPOCH - 25 : training on 186679 raw words (55819 effective words) took 1.9s, 28676 effective words/s\n",
      "INFO - 22:22:43: EPOCH 26 - PROGRESS: at 27.09% examples, 15082 words/s, in_qsize 0, out_qsize 0\n",
      "INFO - 22:22:44: EPOCH 26 - PROGRESS: at 75.13% examples, 20224 words/s, in_qsize 0, out_qsize 0\n",
      "INFO - 22:22:45: worker thread finished; awaiting finish of 2 more threads\n",
      "INFO - 22:22:45: worker thread finished; awaiting finish of 1 more threads\n",
      "INFO - 22:22:45: worker thread finished; awaiting finish of 0 more threads\n",
      "INFO - 22:22:45: EPOCH - 26 : training on 186679 raw words (56081 effective words) took 2.4s, 23039 effective words/s\n",
      "INFO - 22:22:46: EPOCH 27 - PROGRESS: at 69.80% examples, 37020 words/s, in_qsize 0, out_qsize 0\n",
      "INFO - 22:22:46: worker thread finished; awaiting finish of 2 more threads\n",
      "INFO - 22:22:46: worker thread finished; awaiting finish of 1 more threads\n",
      "INFO - 22:22:46: worker thread finished; awaiting finish of 0 more threads\n",
      "INFO - 22:22:46: EPOCH - 27 : training on 186679 raw words (55895 effective words) took 1.4s, 40155 effective words/s\n",
      "INFO - 22:22:47: EPOCH 28 - PROGRESS: at 69.80% examples, 36341 words/s, in_qsize 0, out_qsize 0\n",
      "INFO - 22:22:48: worker thread finished; awaiting finish of 2 more threads\n",
      "INFO - 22:22:48: worker thread finished; awaiting finish of 1 more threads\n",
      "INFO - 22:22:48: worker thread finished; awaiting finish of 0 more threads\n",
      "INFO - 22:22:48: EPOCH - 28 : training on 186679 raw words (55780 effective words) took 1.6s, 35346 effective words/s\n",
      "INFO - 22:22:49: EPOCH 29 - PROGRESS: at 59.03% examples, 32272 words/s, in_qsize 0, out_qsize 0\n",
      "INFO - 22:22:50: worker thread finished; awaiting finish of 2 more threads\n",
      "INFO - 22:22:50: worker thread finished; awaiting finish of 1 more threads\n",
      "INFO - 22:22:50: worker thread finished; awaiting finish of 0 more threads\n",
      "INFO - 22:22:50: EPOCH - 29 : training on 186679 raw words (55800 effective words) took 1.9s, 29017 effective words/s\n",
      "INFO - 22:22:51: EPOCH 30 - PROGRESS: at 64.42% examples, 35463 words/s, in_qsize 0, out_qsize 0\n",
      "INFO - 22:22:51: worker thread finished; awaiting finish of 2 more threads\n",
      "INFO - 22:22:51: worker thread finished; awaiting finish of 1 more threads\n",
      "INFO - 22:22:51: worker thread finished; awaiting finish of 0 more threads\n",
      "INFO - 22:22:51: EPOCH - 30 : training on 186679 raw words (55687 effective words) took 1.5s, 37708 effective words/s\n",
      "INFO - 22:22:52: EPOCH 31 - PROGRESS: at 80.43% examples, 44535 words/s, in_qsize 0, out_qsize 0\n",
      "INFO - 22:22:52: worker thread finished; awaiting finish of 2 more threads\n",
      "INFO - 22:22:52: worker thread finished; awaiting finish of 1 more threads\n",
      "INFO - 22:22:53: worker thread finished; awaiting finish of 0 more threads\n",
      "INFO - 22:22:53: EPOCH - 31 : training on 186679 raw words (56172 effective words) took 1.3s, 43426 effective words/s\n",
      "INFO - 22:22:54: EPOCH 32 - PROGRESS: at 53.69% examples, 29171 words/s, in_qsize 0, out_qsize 0\n",
      "INFO - 22:22:54: worker thread finished; awaiting finish of 2 more threads\n",
      "INFO - 22:22:54: worker thread finished; awaiting finish of 1 more threads\n",
      "INFO - 22:22:54: worker thread finished; awaiting finish of 0 more threads\n",
      "INFO - 22:22:54: EPOCH - 32 : training on 186679 raw words (55821 effective words) took 1.7s, 32150 effective words/s\n",
      "INFO - 22:22:55: EPOCH 33 - PROGRESS: at 80.43% examples, 39723 words/s, in_qsize 0, out_qsize 0\n",
      "INFO - 22:22:56: worker thread finished; awaiting finish of 2 more threads\n",
      "INFO - 22:22:56: worker thread finished; awaiting finish of 1 more threads\n",
      "INFO - 22:22:56: worker thread finished; awaiting finish of 0 more threads\n",
      "INFO - 22:22:56: EPOCH - 33 : training on 186679 raw words (55945 effective words) took 1.5s, 37447 effective words/s\n",
      "INFO - 22:22:57: EPOCH 34 - PROGRESS: at 85.83% examples, 44015 words/s, in_qsize 0, out_qsize 0\n",
      "INFO - 22:22:57: worker thread finished; awaiting finish of 2 more threads\n",
      "INFO - 22:22:57: worker thread finished; awaiting finish of 1 more threads\n",
      "INFO - 22:22:57: worker thread finished; awaiting finish of 0 more threads\n",
      "INFO - 22:22:57: EPOCH - 34 : training on 186679 raw words (55974 effective words) took 1.4s, 38706 effective words/s\n",
      "INFO - 22:22:58: EPOCH 35 - PROGRESS: at 69.80% examples, 33400 words/s, in_qsize 0, out_qsize 0\n",
      "INFO - 22:22:59: worker thread finished; awaiting finish of 2 more threads\n",
      "INFO - 22:22:59: worker thread finished; awaiting finish of 1 more threads\n",
      "INFO - 22:22:59: worker thread finished; awaiting finish of 0 more threads\n"
     ]
    },
    {
     "name": "stderr",
     "output_type": "stream",
     "text": [
      "INFO - 22:22:59: EPOCH - 35 : training on 186679 raw words (56045 effective words) took 1.5s, 36733 effective words/s\n",
      "INFO - 22:23:00: EPOCH 36 - PROGRESS: at 75.13% examples, 39136 words/s, in_qsize 0, out_qsize 0\n",
      "INFO - 22:23:00: worker thread finished; awaiting finish of 2 more threads\n",
      "INFO - 22:23:00: worker thread finished; awaiting finish of 1 more threads\n",
      "INFO - 22:23:00: worker thread finished; awaiting finish of 0 more threads\n",
      "INFO - 22:23:00: EPOCH - 36 : training on 186679 raw words (56179 effective words) took 1.6s, 35840 effective words/s\n",
      "INFO - 22:23:02: EPOCH 37 - PROGRESS: at 43.02% examples, 23036 words/s, in_qsize 0, out_qsize 0\n",
      "INFO - 22:23:02: worker thread finished; awaiting finish of 2 more threads\n",
      "INFO - 22:23:02: worker thread finished; awaiting finish of 1 more threads\n",
      "INFO - 22:23:02: worker thread finished; awaiting finish of 0 more threads\n",
      "INFO - 22:23:02: EPOCH - 37 : training on 186679 raw words (55886 effective words) took 1.9s, 29804 effective words/s\n",
      "INFO - 22:23:03: EPOCH 38 - PROGRESS: at 75.13% examples, 41931 words/s, in_qsize 0, out_qsize 0\n",
      "INFO - 22:23:04: worker thread finished; awaiting finish of 2 more threads\n",
      "INFO - 22:23:04: worker thread finished; awaiting finish of 1 more threads\n",
      "INFO - 22:23:04: worker thread finished; awaiting finish of 0 more threads\n",
      "INFO - 22:23:04: EPOCH - 38 : training on 186679 raw words (55998 effective words) took 1.3s, 42057 effective words/s\n",
      "INFO - 22:23:05: EPOCH 39 - PROGRESS: at 64.42% examples, 35674 words/s, in_qsize 0, out_qsize 0\n",
      "INFO - 22:23:05: worker thread finished; awaiting finish of 2 more threads\n",
      "INFO - 22:23:05: worker thread finished; awaiting finish of 1 more threads\n",
      "INFO - 22:23:05: worker thread finished; awaiting finish of 0 more threads\n",
      "INFO - 22:23:05: EPOCH - 39 : training on 186679 raw words (56079 effective words) took 1.6s, 35235 effective words/s\n",
      "INFO - 22:23:06: EPOCH 40 - PROGRESS: at 69.80% examples, 37026 words/s, in_qsize 0, out_qsize 0\n",
      "INFO - 22:23:07: worker thread finished; awaiting finish of 2 more threads\n",
      "INFO - 22:23:07: worker thread finished; awaiting finish of 1 more threads\n",
      "INFO - 22:23:07: worker thread finished; awaiting finish of 0 more threads\n",
      "INFO - 22:23:07: EPOCH - 40 : training on 186679 raw words (55992 effective words) took 1.5s, 36711 effective words/s\n",
      "INFO - 22:23:07: training on a 7467160 raw words (2237224 effective words) took 73.8s, 30326 effective words/s\n"
     ]
    },
    {
     "data": {
      "text/plain": [
       "(2237224, 7467160)"
      ]
     },
     "execution_count": 47,
     "metadata": {},
     "output_type": "execute_result"
    }
   ],
   "source": [
    "w2v_model.train(sentences, total_examples=w2v_model.corpus_count, epochs=40, report_delay=1)"
   ]
  },
  {
   "cell_type": "markdown",
   "metadata": {},
   "source": [
    "we can save the model and load it again"
   ]
  },
  {
   "cell_type": "code",
   "execution_count": 48,
   "metadata": {},
   "outputs": [
    {
     "name": "stderr",
     "output_type": "stream",
     "text": [
      "INFO - 22:23:10: saving Word2Vec object under tmp_model, separately None\n",
      "INFO - 22:23:10: not storing attribute vectors_norm\n",
      "INFO - 22:23:10: not storing attribute cum_table\n",
      "INFO - 22:23:10: saved tmp_model\n"
     ]
    }
   ],
   "source": [
    "w2v_model.save('tmp_model')\n",
    "#new_model = gensim.models.Word2Vec.load('tmp_model')"
   ]
  },
  {
   "cell_type": "markdown",
   "metadata": {},
   "source": [
    "As we do not plan to train the model any further, we are calling init_sims(), which will make the model much more memory-efficient:"
   ]
  },
  {
   "cell_type": "code",
   "execution_count": 49,
   "metadata": {},
   "outputs": [
    {
     "name": "stderr",
     "output_type": "stream",
     "text": [
      "INFO - 22:23:12: precomputing L2-norms of word weight vectors\n"
     ]
    }
   ],
   "source": [
    "w2v_model.init_sims(replace=True)"
   ]
  },
  {
   "cell_type": "markdown",
   "metadata": {},
   "source": [
    "### Part 4: Explore the learned word2vec model\n",
    "\n",
    "Gensim also provides lots of functions to manipulate word vectors. Let us check some of them\n",
    "\n",
    "We can check what we will get for the main characters. Make fun with these learned word vectors. "
   ]
  },
  {
   "cell_type": "markdown",
   "metadata": {},
   "source": [
    "#### Given a word, find its most Similar\n",
    "\n",
    "#####  Look at similar words for joey\n",
    "\n",
    "This is one of the main characters in Friends.\n",
    "\n",
    "<img src=\"imgs\\joey.jpeg\" alt=\"joey\"\n",
    "\ttitle=\"cbow pic\" width=\"300\" height=\"250\" />"
   ]
  },
  {
   "cell_type": "code",
   "execution_count": 50,
   "metadata": {},
   "outputs": [
    {
     "data": {
      "text/plain": [
       "[('chandler', 0.6380542516708374),\n",
       " ('doin', 0.6036429405212402),\n",
       " ('chan', 0.5946396589279175),\n",
       " ('janine', 0.5850124359130859),\n",
       " ('favor', 0.5687410831451416),\n",
       " ('dina', 0.5581873059272766),\n",
       " ('j', 0.5555078983306885),\n",
       " ('trade', 0.5504496693611145),\n",
       " ('please', 0.5444128513336182),\n",
       " ('talkin', 0.5405898690223694)]"
      ]
     },
     "execution_count": 50,
     "metadata": {},
     "output_type": "execute_result"
    }
   ],
   "source": [
    "w2v_model.wv.most_similar(positive=[\"joey\"])"
   ]
  },
  {
   "cell_type": "markdown",
   "metadata": {},
   "source": [
    "the score is the cosine value between two vectors.\n",
    "\n",
    "Look like the model makes sense, since chandler and joey are best roommates.\n",
    "\n",
    "And the second similar words \"doin\" is in his famous line: ``How You Doin``"
   ]
  },
  {
   "cell_type": "markdown",
   "metadata": {},
   "source": [
    "<img src=\"imgs\\joey_chan.jpeg\" alt=\"joeychan\"\n",
    "\ttitle=\"cbow pic\" width=\"300\" height=\"250\" />"
   ]
  },
  {
   "cell_type": "markdown",
   "metadata": {},
   "source": [
    "Then, how about the bigram \"joey tribbiani\". It is the full name."
   ]
  },
  {
   "cell_type": "code",
   "execution_count": 51,
   "metadata": {
    "scrolled": true
   },
   "outputs": [
    {
     "data": {
      "text/plain": [
       "[('moves', 0.6831839084625244),\n",
       " ('scene', 0.6238728165626526),\n",
       " ('days_lives', 0.6180239915847778),\n",
       " ('dr_drake', 0.6157978773117065),\n",
       " ('valentine_day', 0.6085768342018127),\n",
       " ('stars', 0.6012861132621765),\n",
       " ('nice_meet', 0.5954543352127075),\n",
       " (\"ross's\", 0.5780478715896606),\n",
       " ('italian', 0.5721103549003601),\n",
       " ('soap_opera', 0.5681972503662109)]"
      ]
     },
     "execution_count": 51,
     "metadata": {},
     "output_type": "execute_result"
    }
   ],
   "source": [
    "w2v_model.wv.most_similar(positive=[\"joey_tribbiani\"])"
   ]
  },
  {
   "cell_type": "markdown",
   "metadata": {},
   "source": [
    "This model returns more words related to Joey's job: actor. \n",
    "\n",
    "<img src=\"imgs\\dlife.jpeg\" alt=\"joeychan\"\n",
    "\ttitle=\"cbow pic\" width=\"300\" height=\"250\" />"
   ]
  },
  {
   "cell_type": "markdown",
   "metadata": {},
   "source": [
    "#### Given a list of words, find the word that does not belong to the list."
   ]
  },
  {
   "cell_type": "markdown",
   "metadata": {},
   "source": [
    "How about friendship among these three girls?"
   ]
  },
  {
   "cell_type": "code",
   "execution_count": 53,
   "metadata": {},
   "outputs": [
    {
     "data": {
      "text/plain": [
       "'monica'"
      ]
     },
     "execution_count": 53,
     "metadata": {},
     "output_type": "execute_result"
    }
   ],
   "source": [
    "w2v_model.wv.doesnt_match(['monica', 'rachel', 'phoebe'])"
   ]
  },
  {
   "cell_type": "markdown",
   "metadata": {},
   "source": [
    "#### Analogy difference:\n",
    "\n",
    "Which word is to woman as ross is to man?"
   ]
  },
  {
   "cell_type": "code",
   "execution_count": 55,
   "metadata": {},
   "outputs": [
    {
     "data": {
      "text/plain": [
       "[('knowing', 0.5938038229942322),\n",
       " ('happen', 0.5827463269233704),\n",
       " ('rachel', 0.5677865743637085)]"
      ]
     },
     "execution_count": 55,
     "metadata": {},
     "output_type": "execute_result"
    }
   ],
   "source": [
    "w2v_model.wv.most_similar(positive=[\"woman\", \"ross\"], negative=[\"man\"], topn=3)"
   ]
  },
  {
   "cell_type": "markdown",
   "metadata": {},
   "source": [
    "Rachel is in the top3 list!!! Seems the result is not bad.\n",
    "\n",
    "<img src=\"imgs\\love.jpeg\" alt=\"joeychan\"\n",
    "\ttitle=\"cbow pic\" width=\"300\" height=\"250\" />"
   ]
  },
  {
   "cell_type": "markdown",
   "metadata": {},
   "source": [
    "#### How to take word vectors out?\n",
    "\n",
    "We can also extract vectors from the w2v model and utilize them with other methods. "
   ]
  },
  {
   "cell_type": "code",
   "execution_count": 56,
   "metadata": {},
   "outputs": [
    {
     "name": "stderr",
     "output_type": "stream",
     "text": [
      "/Users/rui/pyenv/bt5153/lib/python3.6/site-packages/ipykernel_launcher.py:5: DeprecationWarning: Call to deprecated `__getitem__` (Method will be removed in 4.0.0, use self.wv.__getitem__() instead).\n",
      "  \"\"\"\n"
     ]
    }
   ],
   "source": [
    "vocabs = []\n",
    "vecs = []\n",
    "for word in w2v_model.wv.vocab:\n",
    "    vocabs.append(word)\n",
    "    vecs.append(w2v_model[word])"
   ]
  },
  {
   "cell_type": "markdown",
   "metadata": {},
   "source": [
    "#### Visualize these word embeddings\n",
    "\n",
    "We can reduce the embeddings size to 2 by TSNE (non-linear dimensionality reduction method)"
   ]
  },
  {
   "cell_type": "code",
   "execution_count": 57,
   "metadata": {},
   "outputs": [],
   "source": [
    "from sklearn.manifold import TSNE\n",
    "sub_vecs = vecs[:100]\n",
    "sub_vocab = vocabs[:100]\n",
    "tsne_model = TSNE(perplexity=40, n_components=2, init='pca', n_iter=2000, random_state=23)\n",
    "new_values = tsne_model.fit_transform(sub_vecs)"
   ]
  },
  {
   "cell_type": "code",
   "execution_count": 58,
   "metadata": {},
   "outputs": [
    {
     "data": {
      "image/png": "[encoded data removed]",
      "text/plain": [
       "<Figure size 1152x1152 with 1 Axes>"
      ]
     },
     "metadata": {
      "needs_background": "light"
     },
     "output_type": "display_data"
    }
   ],
   "source": [
    "%matplotlib inline\n",
    "import matplotlib.pyplot as plt\n",
    "x = []\n",
    "y = []\n",
    "for value in new_values:\n",
    "    x.append(value[0])\n",
    "    y.append(value[1])\n",
    "        \n",
    "plt.figure(figsize=(16, 16)) \n",
    "for i in range(len(x)):\n",
    "    plt.scatter(x[i],y[i])\n",
    "    plt.annotate(sub_vocab[i],\n",
    "                     xy=(x[i], y[i]),\n",
    "                     xytext=(5, 2),\n",
    "                     textcoords='offset points',\n",
    "                     ha='right',\n",
    "                     va='bottom')\n",
    "plt.show()"
   ]
  },
  {
   "cell_type": "markdown",
   "metadata": {},
   "source": [
    "Other Tutorial about gensim:\n",
    "\n",
    "http://kavita-ganesan.com/gensim-word2vec-tutorial-starter-code/#.W467ScBjM2x\n",
    "\n",
    "https://www.machinelearningplus.com/nlp/topic-modeling-gensim-python/"
   ]
  }
 ],
 "metadata": {
  "kernelspec": {
   "display_name": "bt5153",
   "language": "python",
   "name": "bt5153"
  },
  "language_info": {
   "codemirror_mode": {
    "name": "ipython",
    "version": 3
   },
   "file_extension": ".py",
   "mimetype": "text/x-python",
   "name": "python",
   "nbconvert_exporter": "python",
   "pygments_lexer": "ipython3",
   "version": "3.6.4"
  }
 },
 "nbformat": 4,
 "nbformat_minor": 2
}
